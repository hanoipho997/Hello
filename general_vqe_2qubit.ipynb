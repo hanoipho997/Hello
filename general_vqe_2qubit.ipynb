{
 "cells": [
  {
   "cell_type": "code",
   "execution_count": 1,
   "metadata": {},
   "outputs": [
    {
     "name": "stderr",
     "output_type": "stream",
     "text": [
      "Matplotlib is building the font cache; this may take a moment.\n"
     ]
    }
   ],
   "source": [
    "\n",
    "from scipy.optimize import minimize\n",
    "from qiskit import *\n",
    "from qiskit.tools.monitor import job_monitor\n",
    "import numpy as np\n",
    "from scipy.optimize import minimize\n",
    "from pylab import *"
   ]
  },
  {
   "cell_type": "code",
   "execution_count": null,
   "metadata": {},
   "outputs": [],
   "source": []
  },
  {
   "cell_type": "code",
   "execution_count": 43,
   "metadata": {},
   "outputs": [
    {
     "data": {
      "text/plain": [
       "['00', '01', '10', '11']"
      ]
     },
     "execution_count": 43,
     "metadata": {},
     "output_type": "execute_result"
    }
   ],
   "source": [
    "bit = ['0','1']\n",
    "dic = []\n",
    "for i in bit:\n",
    "    for j in bit:\n",
    "        dic.append(i+j)\n",
    "dic"
   ]
  },
  {
   "cell_type": "code",
   "execution_count": 59,
   "metadata": {},
   "outputs": [],
   "source": [
    "# 1. Quantum_module_Z caculate expectation energy for terms of sigma z \n",
    "def module_Z(teta):\n",
    "    q = QuantumRegister(2)\n",
    "    c = ClassicalRegister(2)\n",
    "    circuit = QuantumCircuit(q, c)\n",
    "\n",
    "    # quantum state preparation\n",
    "    q = circuit.qregs[0]\n",
    "    circuit.u3(teta[0], teta[1], 0, q[1])\n",
    "    circuit.cu3(teta[2], teta[3], 0, q[1],q[0])\n",
    "    circuit.x(q[1])\n",
    "    circuit.cu3(teta[4], teta[5], 0, q[1],q[0])\n",
    "    #circuit.cx(q[1],q[0])\n",
    "    circuit.ry(teta[6], q[0])\n",
    "    circuit.ry(teta[7], q[1])\n",
    "   \n",
    "    circuit.measure(range(2),range(2))\n",
    "# Executing the circuit by qasm_simulation to caculate energy from result.get(counts)    \n",
    "    shots = 8192\n",
    "    backend = BasicAer.get_backend('qasm_simulator')\n",
    "    result = execute(circuit, backend, shots=shots).result()\n",
    "    counts = result.get_counts()\n",
    "    \n",
    "# get full possible keys for counts otherwise we might encounter KeyError where we count nothing for a key\n",
    "# Remember dic is the list that contain all 2^4=16 possible keys, appending key for count where key in dic but not in count     \n",
    "    for i in dic:\n",
    "        if i not in counts:\n",
    "            counts[i] = 0\n",
    "# function to calculate probability\n",
    "    def prob(j):\n",
    "        e = 0\n",
    "        for i in counts.keys():\n",
    "            if i[j] == '0':\n",
    "                e += counts[i]\n",
    "            else:\n",
    "                e -= counts[i]\n",
    "        return e/shots \n",
    "\n",
    "    # expectation value of energy estimation from counts\n",
    "    E_J = -2*prob(0)*prob(1) \n",
    "    return E_J\n",
    "# 2. Quantum_module_X caculate expectation energy for terms of sigma x\n",
    "def module_X(teta):\n",
    "    q = QuantumRegister(2)\n",
    "    c = ClassicalRegister(2)\n",
    "    circuit = QuantumCircuit(q, c)\n",
    "\n",
    "    # quantum state preparation\n",
    "    q = circuit.qregs[0]\n",
    "    circuit.u3(teta[0], teta[1], 0, q[1])\n",
    "    circuit.cu3(teta[2], teta[3], 0, q[1],q[0])\n",
    "    circuit.x(q[1])\n",
    "    circuit.cu3(teta[4], teta[5], 0, q[1],q[0])\n",
    "    \n",
    "    #circuit.cx(q[1],q[0])\n",
    "    circuit.ry(teta[6], q[0])\n",
    "    circuit.ry(teta[7], q[1])\n",
    "   \n",
    "   \n",
    "# measurement \n",
    "# Add Hadamard gate before put measurement gate to change measurement axis from z to x \n",
    "    circuit.h(q[0])\n",
    "    circuit.h(q[1])\n",
    "   \n",
    "    circuit.measure(range(2), range(2))\n",
    "    \n",
    "# Executing the circuit by qasm_simulation to caculate energy from result.get(counts)    \n",
    "\n",
    "    shots = 8192\n",
    "    backend = BasicAer.get_backend('qasm_simulator')\n",
    "    result = execute(circuit, backend, shots=shots).result()\n",
    "    counts = result.get_counts()\n",
    "\n",
    "# get full possible keys for counts otherwise we might encounter KeyError where we count nothing for a key\n",
    "# Remember dic is the list that contain all 2^4=16 possible keys, appending key for count where key in dic but not in count \n",
    "    \n",
    "    for i in dic:\n",
    "        if i not in counts:\n",
    "            counts[i] = 0\n",
    "# function to calculate probability\n",
    "    def prob(j):\n",
    "        e = 0\n",
    "        for i in counts.keys():\n",
    "            if i[j] == '0':\n",
    "                e += counts[i]\n",
    "            else:\n",
    "                e -= counts[i]\n",
    "        return e/shots \n",
    "# expectation value estimation from counts\n",
    "\n",
    "    E_Z = -(prob(0)+prob(1))\n",
    "    return E_Z\n",
    "\n",
    "# expectation value total \n",
    "def vqe(teta):\n",
    "    # Summing the measurement results\n",
    "    classical_adder = module_Z(teta) + h * module_X(teta)\n",
    "    return classical_adder"
   ]
  },
  {
   "cell_type": "code",
   "execution_count": 60,
   "metadata": {},
   "outputs": [
    {
     "data": {
      "text/html": [
       "<pre style=\"word-wrap: normal;white-space: pre;background: #fff0;line-height: 1.1;font-family: &quot;Courier New&quot;,Courier,monospace\">                           ┌───────────────┐     ┌───────────────┐┌─────────┐\n",
       "q94585_0: ─────────────────┤ U3(0.5,0.5,0) ├─────┤ U3(0.5,0.5,0) ├┤ RY(0.5) ├\n",
       "          ┌───────────────┐└───────┬───────┘┌───┐└───────┬───────┘├─────────┤\n",
       "q94585_1: ┤ U3(0.5,0.5,0) ├────────■────────┤ X ├────────■────────┤ RY(0.5) ├\n",
       "          └───────────────┘                 └───┘                 └─────────┘\n",
       "c14499: 2/═══════════════════════════════════════════════════════════════════\n",
       "                                                                             </pre>"
      ],
      "text/plain": [
       "                           ┌───────────────┐     ┌───────────────┐┌─────────┐\n",
       "q94585_0: ─────────────────┤ U3(0.5,0.5,0) ├─────┤ U3(0.5,0.5,0) ├┤ RY(0.5) ├\n",
       "          ┌───────────────┐└───────┬───────┘┌───┐└───────┬───────┘├─────────┤\n",
       "q94585_1: ┤ U3(0.5,0.5,0) ├────────■────────┤ X ├────────■────────┤ RY(0.5) ├\n",
       "          └───────────────┘                 └───┘                 └─────────┘\n",
       "c14499: 2/═══════════════════════════════════════════════════════════════════\n",
       "                                                                             "
      ]
     },
     "execution_count": 60,
     "metadata": {},
     "output_type": "execute_result"
    }
   ],
   "source": [
    "teta = [0.5]*8\n",
    "q = QuantumRegister(2)\n",
    "c = ClassicalRegister(2)\n",
    "circuit = QuantumCircuit(q, c)\n",
    "\n",
    "# quantum state preparation\n",
    "q = circuit.qregs[0]\n",
    "# Uncomment these following 6 lines by pressing \" CTRL / \" to prepare ENTANGLE states of 4 qubits\n",
    "circuit.u3(teta[0], teta[1], 0, q[1])\n",
    "circuit.cu3(teta[2], teta[3], 0, q[1],q[0])\n",
    "circuit.x(q[1])\n",
    "circuit.cu3(teta[4], teta[5], 0, q[1],q[0])\n",
    "#circuit.cx(q[1],q[0])\n",
    "circuit.ry(teta[6], q[0])\n",
    "circuit.ry(teta[7], q[1])\n",
    "circuit.draw()"
   ]
  },
  {
   "cell_type": "code",
   "execution_count": 61,
   "metadata": {},
   "outputs": [],
   "source": [
    "from numpy import random\n",
    "l = np.pi*random.rand()\n",
    "\n",
    "tol = 1e-3 # tolerance for optimization precision.\n",
    "# Get expectation energy by optimization with corresponding h = 0.1, 0.2,..., 2.9, 3. \n",
    "y_vqe = []\n",
    "for k in range(1,21):\n",
    "    h = k/10\n",
    "    vqe_result = minimize(vqe, [l]*8 , method=\"COBYLA\", tol=tol)\n",
    "    y_vqe.append(vqe_result.fun)"
   ]
  },
  {
   "cell_type": "code",
   "execution_count": 62,
   "metadata": {},
   "outputs": [
    {
     "data": {
      "text/plain": [
       "Text(0.5, 1.0, 'VQE vs Exact Diagonal')"
      ]
     },
     "execution_count": 62,
     "metadata": {},
     "output_type": "execute_result"
    },
    {
     "data": {
      "image/png": "[encoded data removed]",
      "text/plain": [
       "<Figure size 432x288 with 1 Axes>"
      ]
     },
     "metadata": {
      "needs_background": "light"
     },
     "output_type": "display_data"
    }
   ],
   "source": [
    "y_mean = np.array(y_vqe)/2\n",
    "\n",
    "# \n",
    "x = []\n",
    "for k in range(1,21):\n",
    "    x.append(k/10)\n",
    "z_mean = -np.sqrt(np.array(x)**2+1)\n",
    "plot(x,y_mean,'bs', label='VQE')\n",
    "plot(x,z_mean, 'r--',label='Exact')\n",
    "\n",
    "plt.xlabel('h')\n",
    "plt.ylabel('E/N with N = 2')\n",
    "plt.title('VQE vs Exact Diagonal')"
   ]
  },
  {
   "cell_type": "code",
   "execution_count": null,
   "metadata": {},
   "outputs": [],
   "source": []
  },
  {
   "cell_type": "code",
   "execution_count": 54,
   "metadata": {},
   "outputs": [
    {
     "data": {
      "text/plain": [
       "Text(0.5, 1.0, 'VQE vs Exact Diagonal')"
      ]
     },
     "execution_count": 54,
     "metadata": {},
     "output_type": "execute_result"
    },
    {
     "data": {
      "image/png": "[encoded data removed]",
      "text/plain": [
       "<Figure size 432x288 with 1 Axes>"
      ]
     },
     "metadata": {
      "needs_background": "light"
     },
     "output_type": "display_data"
    }
   ],
   "source": [
    "y_mean = np.array(y_vqe)/2\n",
    "\n",
    "# \n",
    "x = []\n",
    "for k in range(1,21):\n",
    "    x.append(k/10)\n",
    "z_mean = -np.sqrt(np.array(x)**2+1)\n",
    "plot(x,y_mean,'bs', label='VQE')\n",
    "plot(x,z_mean, 'r--',label='Exact')\n",
    "\n",
    "plt.xlabel('h')\n",
    "plt.ylabel('E/N with N = 2')\n",
    "plt.title('VQE vs Exact Diagonal')"
   ]
  },
  {
   "cell_type": "code",
   "execution_count": null,
   "metadata": {},
   "outputs": [],
   "source": []
  }
 ],
 "metadata": {
  "kernelspec": {
   "display_name": "Python 3",
   "language": "python",
   "name": "python3"
  },
  "language_info": {
   "codemirror_mode": {
    "name": "ipython",
    "version": 3
   },
   "file_extension": ".py",
   "mimetype": "text/x-python",
   "name": "python",
   "nbconvert_exporter": "python",
   "pygments_lexer": "ipython3",
   "version": "3.8.5"
  }
 },
 "nbformat": 4,
 "nbformat_minor": 4
}

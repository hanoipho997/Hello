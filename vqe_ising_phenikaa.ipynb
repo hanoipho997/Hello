{
 "cells": [
  {
   "cell_type": "code",
   "execution_count": 1,
   "metadata": {},
   "outputs": [],
   "source": [
    "from scipy.optimize import minimize\n",
    "from qiskit import *\n",
    "from qiskit.tools.monitor import job_monitor\n",
    "import numpy as np\n",
    "from scipy.optimize import minimize\n",
    "from pylab import *"
   ]
  },
  {
   "cell_type": "code",
   "execution_count": 2,
   "metadata": {},
   "outputs": [],
   "source": [
    "# z is a list containing exact eigenvalues for h = 0.1, 0.2,...,2.9 ,3 computed in Mathematica \n",
    "z = [-4.010037405062514 ,\n",
    "-4.040593699203863,\n",
    "-4.092961599426859,\n",
    "-4.1691429451087645,\n",
    "-4.271558410139714, \n",
    "-4.402568723322251,\n",
    "-4.5638560652030025,\n",
    "-4.755851777650323,\n",
    "-4.977465611454963,\n",
    "-5.226251859505506,\n",
    "-5.498905492735204,\n",
    "-5.791834638568259,\n",
    "-6.1016033930386895,\n",
    "-6.425177729100424,\n",
    "-6.7600085505561465,\n",
    "-7.104016521269247,\n",
    "-7.455532355358033,\n",
    "-7.813225255886913,\n",
    "-8.176035456720664,\n",
    "-8.543116820279428,\n",
    "-8.913790457807169,\n",
    "-9.287508263909395,\n",
    "-9.663824636980378,\n",
    "-10.042374672794756,\n",
    "-10.422857362771913,\n",
    "-10.805022618668234,\n",
    "-11.188661210037163,\n",
    "-11.573596918482796,\n",
    "-11.959680383108838,\n",
    "-12.34678424145734]"
   ]
  },
  {
   "cell_type": "code",
   "execution_count": 10,
   "metadata": {},
   "outputs": [
    {
     "data": {
      "text/plain": [
       "['0000',\n",
       " '0001',\n",
       " '0010',\n",
       " '0011',\n",
       " '0100',\n",
       " '0101',\n",
       " '0110',\n",
       " '0111',\n",
       " '1000',\n",
       " '1001',\n",
       " '1010',\n",
       " '1011',\n",
       " '1100',\n",
       " '1101',\n",
       " '1110',\n",
       " '1111']"
      ]
     },
     "execution_count": 10,
     "metadata": {},
     "output_type": "execute_result"
    }
   ],
   "source": [
    "# Create a list consists of all 2^4 = 16 possible states for 4 qubits \n",
    "bit = ['0','1']\n",
    "dic = []\n",
    "for i in bit:\n",
    "    for j in bit:\n",
    "        for k in bit:\n",
    "            for l in bit:\n",
    "                dic.append(i+j+k+l)\n",
    "dic                "
   ]
  },
  {
   "cell_type": "code",
   "execution_count": 8,
   "metadata": {},
   "outputs": [],
   "source": [
    "# define functions to caculate expectation energy by counting probabilities in Quantum Virtual Simulator. \n",
    "# 1. Quantum_module_Z caculate expectation energy for terms of sigma z \n",
    "def module_Z(teta):\n",
    "    q = QuantumRegister(4)\n",
    "    c = ClassicalRegister(4)\n",
    "    circuit = QuantumCircuit(q, c)\n",
    "\n",
    "# quantum state preparation\n",
    "    q = circuit.qregs[0]\n",
    "# Uncomment these following 6 lines by pressing \" CTRL / \" to prepare ENTANGLE states of 4 qubits\n",
    "\n",
    "#     circuit.u3(teta[4], teta[5], 0, q[0])\n",
    "#     circuit.cx(q[0],q[1])\n",
    "#     circuit.cx(q[0],q[2])\n",
    "#     circuit.cx(q[0],q[3])\n",
    "#     for i in range(3):\n",
    "#         circuit.barrier(q[i])\n",
    "    circuit.ry(teta[0], q[0])\n",
    "    circuit.ry(teta[1], q[1])\n",
    "    circuit.ry(teta[2], q[2])\n",
    "    circuit.ry(teta[3], q[3])\n",
    "    for i in range(3):\n",
    "        circuit.barrier(q[i])\n",
    "\n",
    "\n",
    "# measurement\n",
    "    circuit.measure(range(4),range(4))\n",
    "# Executing the circuit by qasm_simulation to caculate energy from result.get(counts)    \n",
    "    shots = 10000\n",
    "    backend = BasicAer.get_backend('qasm_simulator')\n",
    "    result = execute(circuit, backend, shots=shots).result()\n",
    "    counts = result.get_counts()\n",
    "    \n",
    "# get full possible keys for counts otherwise we might encounter KeyError where we count nothing for a key\n",
    "# Remember dic is the list that contain all 2^4=16 possible keys, appending key for count where key in dic but not in count     \n",
    "    for i in dic:\n",
    "        if i not in counts:\n",
    "            counts[i] = 0\n",
    "# function to calculate probability\n",
    "    def prob(j):\n",
    "        e = 0\n",
    "        for i in counts.keys():\n",
    "            if i[j] == '0':\n",
    "                e += counts[i]\n",
    "            else:\n",
    "                e -= counts[i]\n",
    "        return e/shots \n",
    "\n",
    "    # expectation value of energy estimation from counts\n",
    "    E_J = -prob(0)*prob(1) - prob(1)*prob(2) - prob(2)*prob(3) - prob(3)*prob(0)\n",
    "    return E_J\n",
    "# 2. Quantum_module_X caculate expectation energy for terms of sigma x\n",
    "def module_X(teta):\n",
    "    q = QuantumRegister(4)\n",
    "    c = ClassicalRegister(4)\n",
    "    circuit = QuantumCircuit(q, c)\n",
    "\n",
    "# quantum state preparation\n",
    "    q = circuit.qregs[0]\n",
    "# Uncomment these following 6 lines by pressing \" CTRL / \" to prepare ENTANGLE states of 4 qubits\n",
    "    \n",
    "#     circuit.u3(teta[4], teta[5], 0, q[0])\n",
    "#     circuit.cx(q[0],q[1])\n",
    "#     circuit.cx(q[0],q[2])\n",
    "#     circuit.cx(q[0],q[3])\n",
    "#     for i in range(3):\n",
    "#         circuit.barrier(q[i])\n",
    "        \n",
    "    circuit.ry(teta[0], q[0])\n",
    "    circuit.ry(teta[1], q[1])\n",
    "    circuit.ry(teta[2], q[2])\n",
    "    circuit.ry(teta[3], q[3])\n",
    "    for i in range(3):\n",
    "        circuit.barrier(q[i])\n",
    "\n",
    "# measurement \n",
    "# Add Hadamard gate before put measurement gate to change measurement axis from z to x \n",
    "    circuit.h(q[0])\n",
    "    circuit.h(q[1])\n",
    "    circuit.h(q[2])\n",
    "    circuit.h(q[3])\n",
    "    circuit.measure(range(4), range(4))\n",
    "    \n",
    "# Executing the circuit by qasm_simulation to caculate energy from result.get(counts)    \n",
    "\n",
    "    shots = 10000\n",
    "    backend = BasicAer.get_backend('qasm_simulator')\n",
    "    result = execute(circuit, backend, shots=shots).result()\n",
    "    counts = result.get_counts()\n",
    "\n",
    "# get full possible keys for counts otherwise we might encounter KeyError where we count nothing for a key\n",
    "# Remember dic is the list that contain all 2^4=16 possible keys, appending key for count where key in dic but not in count \n",
    "    \n",
    "    for i in dic:\n",
    "        if i not in counts:\n",
    "            counts[i] = 0\n",
    "# function to calculate probability\n",
    "    def prob(j):\n",
    "        e = 0\n",
    "        for i in counts.keys():\n",
    "            if i[j] == '0':\n",
    "                e += counts[i]\n",
    "            else:\n",
    "                e -= counts[i]\n",
    "        return e/shots \n",
    "\n",
    "# expectation value estimation from counts\n",
    "\n",
    "    E_Z = -(prob(0)+prob(1)+prob(2)+prob(3))\n",
    "    return E_Z\n",
    "\n",
    "# expectation value total \n",
    "def vqe(teta):\n",
    "    # Summing the measurement results\n",
    "    classical_adder = module_Z(teta) + h * module_X(teta)\n",
    "    return classical_adder\n"
   ]
  },
  {
   "cell_type": "code",
   "execution_count": 19,
   "metadata": {},
   "outputs": [],
   "source": [
    "from numpy import random\n",
    "l = np.pi*random.rand()\n",
    "\n",
    "tol = 1e-3 # tolerance for optimization precision.\n",
    "# Get expectation energy by optimization with corresponding h = 0.1, 0.2,..., 2.9, 3. \n",
    "y_vqe = []\n",
    "for k in range(1,31):\n",
    "    h = k/10\n",
    "    vqe_result = minimize(vqe, [l]*6 , method=\"COBYLA\", tol=tol)\n",
    "    y_vqe.append(vqe_result.fun)"
   ]
  },
  {
   "cell_type": "code",
   "execution_count": 20,
   "metadata": {},
   "outputs": [
    {
     "data": {
      "text/plain": [
       "Text(0.5, 1.0, 'VQE vs Exact Diagonal')"
      ]
     },
     "execution_count": 20,
     "metadata": {},
     "output_type": "execute_result"
    },
    {
     "data": {
      "image/png": "[encoded data removed]",
      "text/plain": [
       "<Figure size 432x288 with 1 Axes>"
      ]
     },
     "metadata": {
      "needs_background": "light"
     },
     "output_type": "display_data"
    }
   ],
   "source": [
    "# Compare the ground state energy by using vqe and the exact results\n",
    "# compare the average values E/4 \n",
    "y_moi = np.array(y_vqe)/4\n",
    "z_moi = np.array(z)/4\n",
    "# \n",
    "x = []\n",
    "for k in range(1,31):\n",
    "    x.append(k/10)\n",
    "    \n",
    "plot(x,y_moi,'bs', label='VQE')\n",
    "plot(x,z_moi, 'r--',label='Exact')\n",
    "\n",
    "plt.xlabel('h')\n",
    "plt.ylabel('E/N with N = 4')\n",
    "plt.title('VQE vs Exact Diagonal')"
   ]
  },
  {
   "cell_type": "code",
   "execution_count": null,
   "metadata": {},
   "outputs": [],
   "source": []
  },
  {
   "cell_type": "code",
   "execution_count": null,
   "metadata": {},
   "outputs": [],
   "source": []
  }
 ],
 "metadata": {
  "kernelspec": {
   "display_name": "Python 3",
   "language": "python",
   "name": "python3"
  },
  "language_info": {
   "codemirror_mode": {
    "name": "ipython",
    "version": 3
   },
   "file_extension": ".py",
   "mimetype": "text/x-python",
   "name": "python",
   "nbconvert_exporter": "python",
   "pygments_lexer": "ipython3",
   "version": "3.8.3"
  }
 },
 "nbformat": 4,
 "nbformat_minor": 4
}

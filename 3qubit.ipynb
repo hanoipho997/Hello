{
 "cells": [
  {
   "cell_type": "code",
   "execution_count": 1,
   "metadata": {},
   "outputs": [],
   "source": [
    "\n",
    "from scipy.optimize import minimize\n",
    "from qiskit import *\n",
    "from qiskit.tools.monitor import job_monitor\n",
    "import numpy as np\n",
    "from scipy.optimize import minimize\n",
    "from pylab import *"
   ]
  },
  {
   "cell_type": "code",
   "execution_count": 126,
   "metadata": {},
   "outputs": [
    {
     "data": {
      "text/plain": [
       "['000', '001', '010', '011', '100', '101', '110', '111']"
      ]
     },
     "execution_count": 126,
     "metadata": {},
     "output_type": "execute_result"
    }
   ],
   "source": [
    "bit = ['0','1']\n",
    "dic = []\n",
    "for i in bit:\n",
    "    for j in bit:\n",
    "        for k in bit:\n",
    "            dic.append(i+j+k)\n",
    "dic"
   ]
  },
  {
   "cell_type": "code",
   "execution_count": 118,
   "metadata": {},
   "outputs": [],
   "source": [
    "# 1. Quantum_module_Z caculate expectation energy for terms of sigma z \n",
    "def module_Z(teta):\n",
    "    q = QuantumRegister(3)\n",
    "    c = ClassicalRegister(3)\n",
    "    circuit = QuantumCircuit(q, c)\n",
    "\n",
    "    # quantum state preparation\n",
    "    q = circuit.qregs[0]\n",
    " \n",
    "    circuit.ry(teta[0], 0)\n",
    "    circuit.cry(teta[1], 0, 1)\n",
    "    circuit.x(0)\n",
    "\n",
    "    circuit.cry(teta[2], 0, 1)\n",
    "    circuit.x(0)\n",
    "    circuit.append(ccry(teta[3]),[q for q in range(3)])\n",
    "\n",
    "    circuit.x(1)\n",
    "    circuit.append(ccry(teta[4]),[q for q in range(3)])\n",
    "    circuit.x(0)\n",
    "    circuit.x(1)\n",
    "    circuit.append(ccry(teta[5]),[q for q in range(3)])\n",
    "    circuit.x(1)\n",
    "    circuit.append(ccry(teta[6]),[q for q in range(3)])\n",
    "    circuit.x(0)\n",
    "    circuit.x(1)\n",
    "\n",
    "   \n",
    "    \n",
    "    \n",
    "   \n",
    "    circuit.measure(range(3),range(3))\n",
    "# Executing the circuit by qasm_simulation to caculate energy from result.get(counts)    \n",
    "    shots = 8192\n",
    "    backend = BasicAer.get_backend('qasm_simulator')\n",
    "    result = execute(circuit, backend, shots=shots).result()\n",
    "    counts = result.get_counts()\n",
    "    \n",
    "# get full possible keys for counts otherwise we might encounter KeyError where we count nothing for a key\n",
    "# Remember dic is the list that contain all 2^4=16 possible keys, appending key for count where key in dic but not in count     \n",
    "    for i in dic:\n",
    "        if i not in counts:\n",
    "            counts[i] = 0\n",
    "# function to calculate probability\n",
    "    def prob(a,b):\n",
    "        e = 0\n",
    "        for i in counts.keys():\n",
    "            if i[a] == i[b]:\n",
    "                e += counts[i]\n",
    "            else:\n",
    "                e -= counts[i]\n",
    "        return e/shots\n",
    "\n",
    "    # expectation value of energy estimation from counts\n",
    "    E_J = -(prob(0,1) + prob(1,2) + prob(2,0))\n",
    "    return E_J\n",
    "# 2. Quantum_module_X caculate expectation energy for terms of sigma x\n",
    "def module_X(teta):\n",
    "    q = QuantumRegister(3)\n",
    "    c = ClassicalRegister(3)\n",
    "    circuit = QuantumCircuit(q, c)\n",
    "\n",
    "    # quantum state preparation\n",
    "    q = circuit.qregs[0]\n",
    "    circuit.ry(teta[0], 0)\n",
    "    circuit.cry(teta[1], 0, 1)\n",
    "    circuit.x(0)\n",
    "\n",
    "    circuit.cry(teta[2], 0, 1)\n",
    "    circuit.x(0)\n",
    "    circuit.append(ccry(teta[3]),[q for q in range(3)])\n",
    "\n",
    "    circuit.x(1)\n",
    "    circuit.append(ccry(teta[4]),[q for q in range(3)])\n",
    "    circuit.x(0)\n",
    "    circuit.x(1)\n",
    "    circuit.append(ccry(teta[5]),[q for q in range(3)])\n",
    "    circuit.x(1)\n",
    "    circuit.append(ccry(teta[6]),[q for q in range(3)])\n",
    "    circuit.x(0)\n",
    "    circuit.x(1)\n",
    "\n",
    "   # measurement \n",
    "# Add Hadamard gate before put measurement gate to change measurement axis from z to x \n",
    "    circuit.h(q[0])\n",
    "    circuit.h(q[1])\n",
    "    circuit.h(2)\n",
    "   \n",
    "    circuit.measure(range(3), range(3))\n",
    "    \n",
    "# Executing the circuit by qasm_simulation to caculate energy from result.get(counts)    \n",
    "\n",
    "    shots = 8192\n",
    "    backend = BasicAer.get_backend('qasm_simulator')\n",
    "    result = execute(circuit, backend, shots=shots).result()\n",
    "    counts = result.get_counts()\n",
    "\n",
    "# get full possible keys for counts otherwise we might encounter KeyError where we count nothing for a key\n",
    "# Remember dic is the list that contain all 2^4=16 possible keys, appending key for count where key in dic but not in count \n",
    "    \n",
    "    for i in dic:\n",
    "        if i not in counts:\n",
    "            counts[i] = 0\n",
    "# function to calculate probability\n",
    "    def prob(j):\n",
    "        e = 0\n",
    "        for i in counts.keys():\n",
    "            if i[j] == '0':\n",
    "                e += counts[i]\n",
    "            else:\n",
    "                e -= counts[i]\n",
    "        return e/shots \n",
    "# expectation value estimation from counts\n",
    "\n",
    "    E_Z = -(prob(0)+prob(1)+prob(2))\n",
    "    return E_Z\n",
    "\n",
    "# expectation value total \n",
    "def vqe(teta):\n",
    "    # Summing the measurement results\n",
    "    classical_adder = module_Z(teta) + h * module_X(teta)\n",
    "    return classical_adder"
   ]
  },
  {
   "cell_type": "code",
   "execution_count": null,
   "metadata": {},
   "outputs": [],
   "source": []
  },
  {
   "cell_type": "code",
   "execution_count": 115,
   "metadata": {},
   "outputs": [
    {
     "data": {
      "text/plain": [
       "-4.18017578125"
      ]
     },
     "execution_count": 115,
     "metadata": {},
     "output_type": "execute_result"
    }
   ],
   "source": [
    "h = 2\n",
    "vqe(teta=[np.pi/6]*7)"
   ]
  },
  {
   "cell_type": "code",
   "execution_count": 120,
   "metadata": {},
   "outputs": [
    {
     "data": {
      "text/plain": [
       "     fun: -5.7529296875\n",
       "   maxcv: 0.0\n",
       " message: 'Optimization terminated successfully.'\n",
       "    nfev: 64\n",
       "  status: 1\n",
       " success: True\n",
       "       x: array([0.97745097, 1.05923466, 0.87926456, 0.51001709, 1.55606468,\n",
       "       0.73802307, 0.94117116])"
      ]
     },
     "execution_count": 120,
     "metadata": {},
     "output_type": "execute_result"
    }
   ],
   "source": [
    "teta0=[np.pi/8]*7\n",
    "tol = 1e-3 \n",
    "h = 2\n",
    "vqe_res = minimize(vqe, teta0 , method=\"COBYLA\", tol=tol)\n",
    "vqe_res"
   ]
  },
  {
   "cell_type": "code",
   "execution_count": null,
   "metadata": {},
   "outputs": [],
   "source": []
  },
  {
   "cell_type": "code",
   "execution_count": null,
   "metadata": {},
   "outputs": [],
   "source": []
  },
  {
   "cell_type": "code",
   "execution_count": 127,
   "metadata": {},
   "outputs": [],
   "source": [
    "# from numpy import random\n",
    "# l = np.pi*random.rand()\n",
    "teta0=[np.pi/6]*7\n",
    "tol = 1e-3 # tolerance for optimization precision.\n",
    "# Get expectation energy by optimization with corresponding h = 0.1, 0.2,..., 2.9, 3. \n",
    "y_vqe = []\n",
    "for k in range(0,20):\n",
    "    h = k/10\n",
    "    vqe_result = minimize(vqe, teta0 , method=\"COBYLA\", tol=tol)\n",
    "    y_vqe.append(vqe_result.fun)"
   ]
  },
  {
   "cell_type": "code",
   "execution_count": 141,
   "metadata": {},
   "outputs": [],
   "source": [
    "z = [-3., -3.00788, -3.03303, -3.07764, -3.14356, -3.23205, -3.34356, \n",
    "-3.47764, -3.63303, -3.80788, -4., -4.20713, -4.42711, -4.65797, \n",
    "-4.898, -5.14575, -5.4, -5.65973, -5.9241, -6.19242]"
   ]
  },
  {
   "cell_type": "code",
   "execution_count": 140,
   "metadata": {},
   "outputs": [],
   "source": [
    "z_mean = np.array(z)/3"
   ]
  },
  {
   "cell_type": "code",
   "execution_count": 142,
   "metadata": {},
   "outputs": [
    {
     "data": {
      "text/plain": [
       "Text(0.5, 1.0, 'VQE vs Exact Diagonal')"
      ]
     },
     "execution_count": 142,
     "metadata": {},
     "output_type": "execute_result"
    },
    {
     "data": {
      "image/png": "[encoded data removed]",
      "text/plain": [
       "<Figure size 432x288 with 1 Axes>"
      ]
     },
     "metadata": {
      "needs_background": "light"
     },
     "output_type": "display_data"
    }
   ],
   "source": [
    "y_mean = np.array(y_vqe)/3\n",
    "\n",
    "x = []\n",
    "for k in range(0,20):\n",
    "    x.append(k/10)\n",
    "\n",
    "plot(x,y_mean,'bs', label='VQE')\n",
    "plot(x,z_mean, 'r--',label='Exact')\n",
    "\n",
    "plt.xlabel('h')\n",
    "plt.ylabel('E/N with N = 2')\n",
    "plt.title('VQE vs Exact Diagonal')"
   ]
  },
  {
   "cell_type": "code",
   "execution_count": 136,
   "metadata": {},
   "outputs": [],
   "source": []
  },
  {
   "cell_type": "code",
   "execution_count": 139,
   "metadata": {},
   "outputs": [],
   "source": []
  },
  {
   "cell_type": "code",
   "execution_count": null,
   "metadata": {},
   "outputs": [],
   "source": []
  },
  {
   "cell_type": "code",
   "execution_count": null,
   "metadata": {},
   "outputs": [],
   "source": []
  },
  {
   "cell_type": "code",
   "execution_count": 133,
   "metadata": {},
   "outputs": [
    {
     "data": {
      "text/plain": [
       "20"
      ]
     },
     "execution_count": 133,
     "metadata": {},
     "output_type": "execute_result"
    }
   ],
   "source": [
    "x = []\n",
    "for k in range(0,20):\n",
    "    x.append(k/10)\n",
    "len(x)"
   ]
  },
  {
   "cell_type": "code",
   "execution_count": null,
   "metadata": {},
   "outputs": [],
   "source": []
  },
  {
   "cell_type": "code",
   "execution_count": 30,
   "metadata": {},
   "outputs": [
    {
     "data": {
      "image/png": "[encoded data removed]",
      "text/plain": [
       "<Figure size 441.777x204.68 with 1 Axes>"
      ]
     },
     "execution_count": 30,
     "metadata": {},
     "output_type": "execute_result"
    }
   ],
   "source": [
    "theta=1\n",
    "qc = QuantumCircuit(3)\n",
    "qc.cry(theta, 1, 2)\n",
    "qc.cx(0,1)\n",
    "qc.cry(-theta, 1, 2)\n",
    "qc.cx(0,1)\n",
    "qc.cry(theta, 0, 2)\n",
    "qc.draw('mpl')"
   ]
  },
  {
   "cell_type": "code",
   "execution_count": 95,
   "metadata": {},
   "outputs": [],
   "source": [
    "def ccry(theta):\n",
    "    qc = QuantumCircuit(3)\n",
    "    qc.cry(theta/2, 1, 2)\n",
    "    qc.cx(0,1)\n",
    "    qc.cry(-theta/2, 1, 2)\n",
    "    qc.cx(0,1)\n",
    "    qc.cry(theta/2, 0, 2)\n",
    "    U = qc.to_gate()\n",
    "    qc.name = 'CCRY'\n",
    "    return U"
   ]
  },
  {
   "cell_type": "code",
   "execution_count": 92,
   "metadata": {},
   "outputs": [
    {
     "data": {
      "image/png": "[encoded data removed]",
      "text/plain": [
       "<Figure size 441.777x204.68 with 1 Axes>"
      ]
     },
     "execution_count": 92,
     "metadata": {},
     "output_type": "execute_result"
    }
   ],
   "source": [
    "qc = QuantumCircuit(3)\n",
    "qc.cry(theta, 1, 2)\n",
    "qc.cx(0,1)\n",
    "qc.cry(-theta, 1, 2)\n",
    "qc.cx(0,1)\n",
    "qc.cry(theta, 0, 2)\n",
    "U = qc.to_gate\n",
    "qc.name = 'CCRY'\n",
    "qc.draw('mpl')"
   ]
  },
  {
   "cell_type": "code",
   "execution_count": 94,
   "metadata": {},
   "outputs": [
    {
     "data": {
      "text/html": [
       "<pre style=\"word-wrap: normal;white-space: pre;background: #fff0;line-height: 1.1;font-family: &quot;Courier New&quot;,Courier,monospace\">     ┌───┐┌─────────────┐\n",
       "q_0: ┤ X ├┤0            ├\n",
       "     ├───┤│             │\n",
       "q_1: ┤ X ├┤1 circuit195 ├\n",
       "     └───┘│             │\n",
       "q_2: ─────┤2            ├\n",
       "          └─────────────┘</pre>"
      ],
      "text/plain": [
       "     ┌───┐┌─────────────┐\n",
       "q_0: ┤ X ├┤0            ├\n",
       "     ├───┤│             │\n",
       "q_1: ┤ X ├┤1 circuit195 ├\n",
       "     └───┘│             │\n",
       "q_2: ─────┤2            ├\n",
       "          └─────────────┘"
      ]
     },
     "execution_count": 94,
     "metadata": {},
     "output_type": "execute_result"
    }
   ],
   "source": [
    "qqc = QuantumCircuit(3)\n",
    "qqc.x(0)\n",
    "qqc.x(1)\n",
    "\n",
    "qqc.append(ccry(2),[q for q in range(3)])\n",
    "qqc.draw()"
   ]
  },
  {
   "cell_type": "code",
   "execution_count": 67,
   "metadata": {},
   "outputs": [
    {
     "data": {
      "image/png": "[encoded data removed]",
      "text/plain": [
       "<Figure size 140.777x204.68 with 1 Axes>"
      ]
     },
     "execution_count": 67,
     "metadata": {},
     "output_type": "execute_result"
    }
   ],
   "source": []
  },
  {
   "cell_type": "code",
   "execution_count": 123,
   "metadata": {},
   "outputs": [
    {
     "data": {
      "image/png": "[encoded data removed]",
      "text/plain": [
       "<Figure size 504x360 with 1 Axes>"
      ]
     },
     "execution_count": 123,
     "metadata": {},
     "output_type": "execute_result"
    }
   ],
   "source": [
    "qc = QuantumCircuit(3,3)\n",
    "qc.h(0)\n",
    "qc.h(1)\n",
    "qc.h(2)\n",
    "qc.append(ccry(np.pi/5),[q for q in range(3)])\n",
    "circuit = qc\n",
    "circuit.measure(range(3), range(3))\n",
    "\n",
    "# Executing the circuit by qasm_simulation to caculate energy from result.get(counts)    \n",
    "\n",
    "shots = 8192\n",
    "backend = BasicAer.get_backend('qasm_simulator')\n",
    "result = execute(circuit, backend, shots=shots).result()\n",
    "counts = result.get_counts()\n",
    "plot_histogram(counts)"
   ]
  },
  {
   "cell_type": "code",
   "execution_count": 84,
   "metadata": {},
   "outputs": [],
   "source": [
    "from qiskit.visualization import plot_histogram"
   ]
  },
  {
   "cell_type": "code",
   "execution_count": 85,
   "metadata": {},
   "outputs": [
    {
     "data": {
      "image/png": "[encoded data removed]",
      "text/plain": [
       "<Figure size 504x360 with 1 Axes>"
      ]
     },
     "execution_count": 85,
     "metadata": {},
     "output_type": "execute_result"
    }
   ],
   "source": []
  },
  {
   "cell_type": "code",
   "execution_count": 100,
   "metadata": {},
   "outputs": [
    {
     "data": {
      "image/png": "[encoded data removed]",
      "text/plain": [
       "<Figure size 504x360 with 1 Axes>"
      ]
     },
     "execution_count": 100,
     "metadata": {},
     "output_type": "execute_result"
    }
   ],
   "source": [
    "qc = QuantumCircuit(1,1)\n",
    "qc.ry(np.pi/4,0)\n",
    "\n",
    "circuit = qc\n",
    "circuit.measure(range(1), range(1))\n",
    "\n",
    "# Executing the circuit by qasm_simulation to caculate energy from result.get(counts)    \n",
    "\n",
    "shots = 8192\n",
    "backend = BasicAer.get_backend('qasm_simulator')\n",
    "result = execute(circuit, backend, shots=shots).result()\n",
    "counts = result.get_counts()\n",
    "plot_histogram(counts)"
   ]
  },
  {
   "cell_type": "code",
   "execution_count": 109,
   "metadata": {},
   "outputs": [
    {
     "data": {
      "image/png": "[encoded data removed]",
      "text/plain": [
       "<Figure size 1164.18x264.88 with 1 Axes>"
      ]
     },
     "execution_count": 109,
     "metadata": {},
     "output_type": "execute_result"
    }
   ],
   "source": [
    "teta = [0,1,2,3,4,5,6]\n",
    "qc = QuantumCircuit(3,3)\n",
    "q = circuit.qregs[0]\n",
    "\n",
    "qc.draw('mpl')"
   ]
  },
  {
   "cell_type": "code",
   "execution_count": 125,
   "metadata": {},
   "outputs": [],
   "source": [
    "counts?"
   ]
  },
  {
   "cell_type": "code",
   "execution_count": null,
   "metadata": {},
   "outputs": [],
   "source": []
  }
 ],
 "metadata": {
  "kernelspec": {
   "display_name": "Python 3",
   "language": "python",
   "name": "python3"
  },
  "language_info": {
   "codemirror_mode": {
    "name": "ipython",
    "version": 3
   },
   "file_extension": ".py",
   "mimetype": "text/x-python",
   "name": "python",
   "nbconvert_exporter": "python",
   "pygments_lexer": "ipython3",
   "version": "3.8.3"
  }
 },
 "nbformat": 4,
 "nbformat_minor": 4
}

{
 "cells": [
  {
   "cell_type": "code",
   "execution_count": 1,
   "metadata": {},
   "outputs": [],
   "source": [
    "def delta(m,k):\n",
    "    if m == k:\n",
    "        return 1\n",
    "    else:\n",
    "        return 0\n",
    "    "
   ]
  },
  {
   "cell_type": "code",
   "execution_count": 2,
   "metadata": {},
   "outputs": [
    {
     "name": "stdout",
     "output_type": "stream",
     "text": [
      "2\n"
     ]
    }
   ],
   "source": [
    "n = int(input())"
   ]
  },
  {
   "cell_type": "code",
   "execution_count": 3,
   "metadata": {},
   "outputs": [],
   "source": [
    "# Python program to convert decimal to binary \n",
    "    \n",
    "# Function to convert Decimal number  \n",
    "# to Binary number  \n",
    "def decToBin(k):  \n",
    "    return bin(k).replace(\"0b\", \"\")  "
   ]
  },
  {
   "cell_type": "code",
   "execution_count": 4,
   "metadata": {},
   "outputs": [],
   "source": [
    "h = 2"
   ]
  },
  {
   "cell_type": "code",
   "execution_count": 16,
   "metadata": {},
   "outputs": [],
   "source": [
    "def hal(m,k):\n",
    "    q = '0'*(n-len(decToBin(k))) + decToBin(k)\n",
    "    def k_prime(i):\n",
    "        return k + (1-2*int(q[i]))*(2**i)\n",
    "                    \n",
    "    sig_z = 0\n",
    "    for i in range(n-1):\n",
    "        sig_z += ((-1)**(int(q[i]))) * (-1)**(int(q[i+1]))\n",
    "    sig_x = 0\n",
    "    for i in range(n):\n",
    "        sig_x += delta(m,k_prime(i))\n",
    "    halminton = - delta(m,k)*sig_z - h*sig_x\n",
    "    return halminton\n",
    "        \n",
    "    "
   ]
  },
  {
   "cell_type": "code",
   "execution_count": 17,
   "metadata": {},
   "outputs": [
    {
     "name": "stdout",
     "output_type": "stream",
     "text": [
      "hal 0 0 is -1\n",
      "hal 0 1 is 0\n",
      "hal 0 2 is 0\n",
      "hal 0 3 is 0\n",
      "hal 1 0 is -2\n",
      "hal 1 1 is 1\n",
      "hal 1 2 is -2\n",
      "hal 1 3 is -2\n",
      "hal 2 0 is -2\n",
      "hal 2 1 is -2\n",
      "hal 2 2 is 1\n",
      "hal 2 3 is -2\n",
      "hal 3 0 is 0\n",
      "hal 3 1 is 0\n",
      "hal 3 2 is 0\n",
      "hal 3 3 is -1\n"
     ]
    }
   ],
   "source": [
    "for i in range (2**n):\n",
    "    for j in range(2**n):\n",
    "        print('hal', i, j, 'is',hal(i,j))"
   ]
  },
  {
   "cell_type": "code",
   "execution_count": 12,
   "metadata": {},
   "outputs": [],
   "source": [
    "k = 2"
   ]
  },
  {
   "cell_type": "code",
   "execution_count": 13,
   "metadata": {},
   "outputs": [],
   "source": [
    "q = '0'*(n-len(decToBin(k))) + decToBin(k)\n"
   ]
  },
  {
   "cell_type": "code",
   "execution_count": 23,
   "metadata": {},
   "outputs": [
    {
     "data": {
      "text/plain": [
       "'10'"
      ]
     },
     "execution_count": 23,
     "metadata": {},
     "output_type": "execute_result"
    }
   ],
   "source": [
    "q"
   ]
  },
  {
   "cell_type": "code",
   "execution_count": 22,
   "metadata": {},
   "outputs": [
    {
     "data": {
      "text/plain": [
       "4"
      ]
     },
     "execution_count": 22,
     "metadata": {},
     "output_type": "execute_result"
    }
   ],
   "source": [
    "k + (1-2*int(q[1]))*(2**1)"
   ]
  },
  {
   "cell_type": "code",
   "execution_count": 25,
   "metadata": {},
   "outputs": [
    {
     "data": {
      "text/plain": [
       "'11'"
      ]
     },
     "execution_count": 25,
     "metadata": {},
     "output_type": "execute_result"
    }
   ],
   "source": [
    "decToBin(3)"
   ]
  },
  {
   "cell_type": "code",
   "execution_count": null,
   "metadata": {},
   "outputs": [],
   "source": []
  }
 ],
 "metadata": {
  "kernelspec": {
   "display_name": "Python 3",
   "language": "python",
   "name": "python3"
  },
  "language_info": {
   "codemirror_mode": {
    "name": "ipython",
    "version": 3
   },
   "file_extension": ".py",
   "mimetype": "text/x-python",
   "name": "python",
   "nbconvert_exporter": "python",
   "pygments_lexer": "ipython3",
   "version": "3.8.3"
  }
 },
 "nbformat": 4,
 "nbformat_minor": 4
}

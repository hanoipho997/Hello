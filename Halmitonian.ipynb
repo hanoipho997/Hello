{
 "cells": [
  {
   "cell_type": "code",
   "execution_count": 1,
   "metadata": {},
   "outputs": [],
   "source": [
    "def delta(m,k):\n",
    "    if m == k:\n",
    "        return 1\n",
    "    else:\n",
    "        return 0\n"
   ]
  },
  {
   "cell_type": "code",
   "execution_count": 2,
   "metadata": {},
   "outputs": [
    {
     "name": "stdout",
     "output_type": "stream",
     "text": [
      "4\n"
     ]
    }
   ],
   "source": [
    "n = int(input())\n"
   ]
  },
  {
   "cell_type": "code",
   "execution_count": 3,
   "metadata": {},
   "outputs": [],
   "source": [
    "# Python program to convert decimal to binary \n",
    "    \n",
    "# Function to convert Decimal number  \n",
    "# to Binary number  \n",
    "def decToBin(k):  \n",
    "    return bin(k).replace(\"0b\", \"\")  "
   ]
  },
  {
   "cell_type": "code",
   "execution_count": 4,
   "metadata": {},
   "outputs": [],
   "source": [
    "def hal(m,k):\n",
    "    q = '0'*(n-len(decToBin(k))) + decToBin(k)\n",
    "    q = q[::-1]\n",
    "    def k_prime(i):\n",
    "        return k + (1-2*(int(q[i])))*(2**i)\n",
    "                    \n",
    "    sig_z = 0\n",
    "    for i in range(n-1):\n",
    "        sig_z += ((-1)**(int(q[i]))) * (-1)**(int(q[i+1]))\n",
    "    # them mach vong tuong tac q0 vs q(n-1)    \n",
    "    sig_z += ((-1)**(int(q[0]))) * (-1)**(int(q[n-1]))\n",
    "    sig_x = 0\n",
    "    for i in range(n):\n",
    "        sig_x += delta(m,k_prime(i))\n",
    "    halminton = - delta(m,k)*sig_z - h*sig_x\n",
    "    return halminton\n",
    "        \n",
    "    "
   ]
  },
  {
   "cell_type": "code",
   "execution_count": 8,
   "metadata": {},
   "outputs": [
    {
     "name": "stdout",
     "output_type": "stream",
     "text": [
      "3\n"
     ]
    }
   ],
   "source": [
    "h = float(input())"
   ]
  },
  {
   "cell_type": "code",
   "execution_count": 6,
   "metadata": {},
   "outputs": [],
   "source": [
    "import numpy as np"
   ]
  },
  {
   "cell_type": "code",
   "execution_count": 7,
   "metadata": {},
   "outputs": [
    {
     "name": "stdout",
     "output_type": "stream",
     "text": [
      "[-4, -3, -3, 0, -3, 0, 0, 0, -3, 0, 0, 0, 0, 0, 0, 0]\n",
      "[-3, 0, 0, -3, 0, -3, 0, 0, 0, -3, 0, 0, 0, 0, 0, 0]\n",
      "[-3, 0, 0, -3, 0, 0, -3, 0, 0, 0, -3, 0, 0, 0, 0, 0]\n",
      "[0, -3, -3, 0, 0, 0, 0, -3, 0, 0, 0, -3, 0, 0, 0, 0]\n",
      "[-3, 0, 0, 0, 0, -3, -3, 0, 0, 0, 0, 0, -3, 0, 0, 0]\n",
      "[0, -3, 0, 0, -3, 4, 0, -3, 0, 0, 0, 0, 0, -3, 0, 0]\n",
      "[0, 0, -3, 0, -3, 0, 0, -3, 0, 0, 0, 0, 0, 0, -3, 0]\n",
      "[0, 0, 0, -3, 0, -3, -3, 0, 0, 0, 0, 0, 0, 0, 0, -3]\n",
      "[-3, 0, 0, 0, 0, 0, 0, 0, 0, -3, -3, 0, -3, 0, 0, 0]\n",
      "[0, -3, 0, 0, 0, 0, 0, 0, -3, 0, 0, -3, 0, -3, 0, 0]\n",
      "[0, 0, -3, 0, 0, 0, 0, 0, -3, 0, 4, -3, 0, 0, -3, 0]\n",
      "[0, 0, 0, -3, 0, 0, 0, 0, 0, -3, -3, 0, 0, 0, 0, -3]\n",
      "[0, 0, 0, 0, -3, 0, 0, 0, -3, 0, 0, 0, 0, -3, -3, 0]\n",
      "[0, 0, 0, 0, 0, -3, 0, 0, 0, -3, 0, 0, -3, 0, 0, -3]\n",
      "[0, 0, 0, 0, 0, 0, -3, 0, 0, 0, -3, 0, -3, 0, 0, -3]\n",
      "[0, 0, 0, 0, 0, 0, 0, -3, 0, 0, 0, -3, 0, -3, -3, -4]\n"
     ]
    }
   ],
   "source": [
    "columns = []\n",
    "grid = []\n",
    "\n",
    "num_of_rows = 2**n\n",
    "num_of_columns = 2**n\n",
    "\n",
    "#creates the matrix\n",
    "for m in range(0, num_of_rows): \n",
    "    for k in range(0, num_of_columns): \n",
    "        columns.append(hal(m, k))\n",
    "    grid.append(columns.copy())\n",
    "    columns = []\n",
    "\n",
    "#prints the grid in the matrix format\n",
    "for x in range(0, len(grid)):\n",
    "    print(grid[x])"
   ]
  },
  {
   "cell_type": "code",
   "execution_count": null,
   "metadata": {},
   "outputs": [],
   "source": []
  }
 ],
 "metadata": {
  "kernelspec": {
   "display_name": "Python 3",
   "language": "python",
   "name": "python3"
  },
  "language_info": {
   "codemirror_mode": {
    "name": "ipython",
    "version": 3
   },
   "file_extension": ".py",
   "mimetype": "text/x-python",
   "name": "python",
   "nbconvert_exporter": "python",
   "pygments_lexer": "ipython3",
   "version": "3.8.3"
  }
 },
 "nbformat": 4,
 "nbformat_minor": 4
}

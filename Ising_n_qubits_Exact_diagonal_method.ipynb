{
 "cells": [
  {
   "cell_type": "code",
   "execution_count": 1,
   "metadata": {},
   "outputs": [],
   "source": [
    "import numpy as np\n",
    "from sympy.physics.quantum import TensorProduct\n",
    "from numpy import linalg as LA\n",
    "from pylab import *"
   ]
  },
  {
   "cell_type": "code",
   "execution_count": 2,
   "metadata": {},
   "outputs": [],
   "source": [
    "sigma_x=np.array([[0,1],[1,0]])\n",
    "sigma_y=np.array([[0,1j],[1j,0]])\n",
    "sigma_z=np.array([[1,0],[0,-1]])\n",
    "sigma_0=np.array([[1,0],[0,1]])"
   ]
  },
  {
   "cell_type": "code",
   "execution_count": 3,
   "metadata": {},
   "outputs": [],
   "source": [
    "def sigmaxyz_n(sig,i,n):\n",
    "    sig_n=1\n",
    "    for idx in range(n):\n",
    "        if idx==i:\n",
    "            sig_n=TensorProduct(sig,sig_n)\n",
    "        else:\n",
    "            sig_n=TensorProduct(sigma_0,sig_n)\n",
    "    return sig_n\n",
    "\n",
    "def Hij(i,j,n):\n",
    "    H_ij=np.matmul(sigmaxyz_n(sigma_z,i,n),sigmaxyz_n(sigma_z,j,n))\n",
    "    return H_ij\n",
    "\n",
    "def Hamiltonian(n,h):\n",
    "    H0=Hij(1,0,n)\n",
    "    for i in range (1,n-1):\n",
    "        H0=H0+Hij(i+1,i,n)\n",
    "    H0=H0+Hij(0,n-1,n)\n",
    "    Ht=H0\n",
    "    for i in range(n):\n",
    "        Ht=Ht+h*sigmaxyz_n(sigma_x,i,n)\n",
    "    return -Ht"
   ]
  },
  {
   "cell_type": "code",
   "execution_count": 4,
   "metadata": {},
   "outputs": [],
   "source": [
    "def minlist(list):\n",
    "    n=list.shape[0]\n",
    "    min=list[0]\n",
    "    idx_min=0\n",
    "    for idx in range(n):\n",
    "        if (list[idx] < min):\n",
    "            min=list[idx]\n",
    "            idx_min=idx\n",
    "    return min,idx_min"
   ]
  },
  {
   "cell_type": "code",
   "execution_count": 5,
   "metadata": {},
   "outputs": [],
   "source": [
    "def groundsate(n,h):\n",
    "    Ht=Hamiltonian(n,h)\n",
    "    En, vec = LA.eig(Ht)\n",
    "    En=np.real(En)\n",
    "    Emin,idx_Emin=minlist(En)\n",
    "    vec_Emin=vec[:,idx_Emin]\n",
    "    return Emin, vec_Emin"
   ]
  },
  {
   "cell_type": "code",
   "execution_count": 6,
   "metadata": {},
   "outputs": [
    {
     "name": "stdout",
     "output_type": "stream",
     "text": [
      "3\n"
     ]
    }
   ],
   "source": [
    "n = int(input())"
   ]
  },
  {
   "cell_type": "code",
   "execution_count": 7,
   "metadata": {},
   "outputs": [
    {
     "name": "stdout",
     "output_type": "stream",
     "text": [
      "2\n"
     ]
    }
   ],
   "source": [
    "h=float(input())"
   ]
  },
  {
   "cell_type": "code",
   "execution_count": 8,
   "metadata": {},
   "outputs": [
    {
     "name": "stdout",
     "output_type": "stream",
     "text": [
      "[[-3. -2. -2. -0. -2. -0. -0. -0.]\n",
      " [-2.  1. -0. -2. -0. -2. -0. -0.]\n",
      " [-2. -0.  1. -2. -0. -0. -2. -0.]\n",
      " [-0. -2. -2.  1. -0. -0. -0. -2.]\n",
      " [-2. -0. -0. -0.  1. -2. -2. -0.]\n",
      " [-0. -2. -0. -0. -2.  1. -0. -2.]\n",
      " [-0. -0. -2. -0. -2. -0.  1. -2.]\n",
      " [-0. -0. -0. -2. -0. -2. -2. -3.]]\n"
     ]
    }
   ],
   "source": [
    "print(Hamiltonian(n,h))"
   ]
  },
  {
   "cell_type": "code",
   "execution_count": 9,
   "metadata": {},
   "outputs": [
    {
     "name": "stdout",
     "output_type": "stream",
     "text": [
      "-6.46410161513775\n",
      "[0.5        0.28867513 0.28867513 0.28867513 0.28867513 0.28867513\n",
      " 0.28867513 0.5       ]\n"
     ]
    }
   ],
   "source": [
    "Emin_exact,vec_Emin_exact=groundsate(n,h)\n",
    "print(Emin_exact)\n",
    "print(vec_Emin_exact)"
   ]
  },
  {
   "cell_type": "code",
   "execution_count": 10,
   "metadata": {},
   "outputs": [],
   "source": [
    "# Tim teta_min\n",
    "\n",
    "def alpha_Psi(i,j,Psi):\n",
    "    if (i==0):\n",
    "        alpha=Psi[j]\n",
    "    else:\n",
    "        a1=alpha_Psi(i-1,2*j+1,Psi)\n",
    "        a0=alpha_Psi(i-1,2*j,Psi)\n",
    "        alpha=np.sqrt(np.abs(a0)**2 + np.abs(a1)**2)*exp(1j*np.angle(a0))\n",
    "    return alpha\n",
    "\n",
    "def find_teta(i,j,Psi):\n",
    "    a0=alpha_Psi(i,2*j,Psi)\n",
    "    a1=alpha_Psi(i,2*j+1,Psi)\n",
    "    \n",
    "    if np.abs(a0)==0:\n",
    "        teta=np.pi\n",
    "    else:\n",
    "        tan_teta=np.abs(a1)/np.abs(a0)\n",
    "        teta=2*np.arctan(tan_teta)\n",
    "    return teta\n",
    "\n",
    "def find_phi(i,j,Psi):\n",
    "    ai1j=alpha_Psi(i+1,j,Psi)\n",
    "    ai2j1=alpha_Psi(i,2*j+1,Psi)\n",
    "    phi=np.angle(ai2j1)-np.angle(ai1j)\n",
    "    return phi\n",
    "\n",
    "def teta(Psi):\n",
    "    n=int(np.log2(np.max(Psi.shape)))\n",
    "    teta=[]\n",
    "    for i in range (n-1,-1,-1):\n",
    "        jmax= 2**(n-i-1)\n",
    "        for j in range (jmax):\n",
    "            teta_ij=find_teta(i,j,Psi)\n",
    "            teta.append(teta_ij)\n",
    "    return teta\n",
    "def phi(Psi):\n",
    "    n=int(np.log2(np.max(Psi.shape)))\n",
    "    phi=[]\n",
    "    for i in range (n-1,-1,-1):\n",
    "        jmax= 2**(n-i-1)\n",
    "        for j in range (jmax):\n",
    "            phi_ij=find_phi(i,j,Psi)\n",
    "            phi.append(phi_ij)\n",
    "    return phi"
   ]
  },
  {
   "cell_type": "code",
   "execution_count": 12,
   "metadata": {},
   "outputs": [],
   "source": [
    "n = 3"
   ]
  },
  {
   "cell_type": "code",
   "execution_count": 16,
   "metadata": {},
   "outputs": [
    {
     "name": "stdout",
     "output_type": "stream",
     "text": [
      "1.5\n"
     ]
    }
   ],
   "source": [
    "h=float(input())"
   ]
  },
  {
   "cell_type": "code",
   "execution_count": 11,
   "metadata": {},
   "outputs": [
    {
     "name": "stdout",
     "output_type": "stream",
     "text": [
      "-2.15470053837925\n",
      "[0.5        0.28867513 0.28867513 0.28867513 0.28867513 0.28867513\n",
      " 0.28867513 0.5       ]\n"
     ]
    }
   ],
   "source": [
    "Emin_exact,vec_Emin_exact=groundsate(n,h)\n",
    "print(Emin_exact/3)\n",
    "print(vec_Emin_exact)"
   ]
  },
  {
   "cell_type": "code",
   "execution_count": 12,
   "metadata": {},
   "outputs": [
    {
     "name": "stdout",
     "output_type": "stream",
     "text": [
      "[0.5        0.28867513 0.28867513 0.28867513 0.28867513 0.28867513\n",
      " 0.28867513 0.5       ]\n"
     ]
    }
   ],
   "source": [
    "Psi=vec_Emin_exact\n",
    "print(Psi)"
   ]
  },
  {
   "cell_type": "code",
   "execution_count": 13,
   "metadata": {},
   "outputs": [
    {
     "name": "stdout",
     "output_type": "stream",
     "text": [
      "[1.5707963267948968, 1.2309594173407752, 1.9106332362490184, 1.0471975511965976, 1.5707963267948963, 1.5707963267948966, 2.094395102393195]\n"
     ]
    }
   ],
   "source": [
    "print(teta(Psi))"
   ]
  },
  {
   "cell_type": "code",
   "execution_count": 33,
   "metadata": {},
   "outputs": [
    {
     "name": "stdout",
     "output_type": "stream",
     "text": [
      "[0.0, 0.0, 0.0, 0.0, 0.0, 0.0, 0.0]\n"
     ]
    }
   ],
   "source": [
    "print(phi(Psi))"
   ]
  },
  {
   "cell_type": "code",
   "execution_count": null,
   "metadata": {},
   "outputs": [],
   "source": []
  }
 ],
 "metadata": {
  "kernelspec": {
   "display_name": "Python 3",
   "language": "python",
   "name": "python3"
  },
  "language_info": {
   "codemirror_mode": {
    "name": "ipython",
    "version": 3
   },
   "file_extension": ".py",
   "mimetype": "text/x-python",
   "name": "python",
   "nbconvert_exporter": "python",
   "pygments_lexer": "ipython3",
   "version": "3.8.3"
  }
 },
 "nbformat": 4,
 "nbformat_minor": 4
}

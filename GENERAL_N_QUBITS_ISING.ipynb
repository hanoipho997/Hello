{
 "cells": [
  {
   "cell_type": "code",
   "execution_count": 1,
   "metadata": {},
   "outputs": [],
   "source": [
    "from scipy.optimize import minimize\n",
    "from qiskit import *\n",
    "from qiskit.tools.monitor import job_monitor\n",
    "import numpy as np\n",
    "from scipy.optimize import minimize\n",
    "from pylab import *"
   ]
  },
  {
   "cell_type": "code",
   "execution_count": 13,
   "metadata": {},
   "outputs": [
    {
     "data": {
      "text/plain": [
       "['000', '001', '010', '011', '100', '101', '110', '111']"
      ]
     },
     "execution_count": 13,
     "metadata": {},
     "output_type": "execute_result"
    }
   ],
   "source": [
    "bit = ['0','1']\n",
    "dic = []\n",
    "for i in bit:\n",
    "    for j in bit:\n",
    "        for k in bit:\n",
    "            dic.append(i+j+k)\n",
    "dic"
   ]
  },
  {
   "cell_type": "code",
   "execution_count": 55,
   "metadata": {},
   "outputs": [
    {
     "data": {
      "text/plain": [
       "['0000',\n",
       " '0001',\n",
       " '0010',\n",
       " '0011',\n",
       " '0100',\n",
       " '0101',\n",
       " '0110',\n",
       " '0111',\n",
       " '1000',\n",
       " '1001',\n",
       " '1010',\n",
       " '1011',\n",
       " '1100',\n",
       " '1101',\n",
       " '1110',\n",
       " '1111']"
      ]
     },
     "execution_count": 55,
     "metadata": {},
     "output_type": "execute_result"
    }
   ],
   "source": [
    "bit = ['0','1']\n",
    "dic = []\n",
    "n = 4\n",
    "for k in range(0,2**n):\n",
    "    dic.append(decToBin(k, n)[::-1])\n",
    "dic"
   ]
  },
  {
   "cell_type": "code",
   "execution_count": 17,
   "metadata": {},
   "outputs": [
    {
     "data": {
      "image/png": "[encoded data removed]",
      "text/plain": [
       "<Figure size 441.777x204.68 with 1 Axes>"
      ]
     },
     "execution_count": 17,
     "metadata": {},
     "output_type": "execute_result"
    }
   ],
   "source": [
    "qc = QuantumCircuit(3)\n",
    "qc.cry(teta/2, 1, 0)\n",
    "qc.cx(2,1)\n",
    "qc.cry(-teta/2, 1, 0)\n",
    "qc.cx(2,1)\n",
    "qc.cry(teta/2, 2, 0)\n",
    "qc.draw('mpl')"
   ]
  },
  {
   "cell_type": "code",
   "execution_count": 21,
   "metadata": {},
   "outputs": [],
   "source": [
    "def ccry(teta):\n",
    "    qc = QuantumCircuit(3)\n",
    "    qc.cry(teta/2, 1, 0)\n",
    "    qc.cx(2,1)\n",
    "    qc.cry(-teta/2, 1, 0)\n",
    "    qc.cx(2,1)\n",
    "    qc.cry(teta/2, 2, 0)\n",
    "    U = qc.to_gate()\n",
    "    qc.name = 'CCRY'\n",
    "    return U"
   ]
  },
  {
   "cell_type": "code",
   "execution_count": 47,
   "metadata": {},
   "outputs": [
    {
     "data": {
      "image/png": "[encoded data removed]",
      "text/plain": [
       "<Figure size 1431.52x264.88 with 1 Axes>"
      ]
     },
     "execution_count": 47,
     "metadata": {},
     "output_type": "execute_result"
    }
   ],
   "source": [
    "teta = theta\n",
    "q = QuantumRegister(3)\n",
    "c = ClassicalRegister(3)\n",
    "circuit = QuantumCircuit(q, c)\n",
    "\n",
    "# quantum state preparation\n",
    "q = circuit.qregs[0]\n",
    "circuit.ry(teta[0], 2)\n",
    "circuit.x(2)\n",
    "\n",
    "circuit.cry(teta[1], 2, 1)\n",
    "circuit.x(2)\n",
    "\n",
    "circuit.cry(teta[2], 2, 1)\n",
    "circuit.x([1,2])\n",
    "\n",
    "circuit.append(ccry(teta[3]),[q for q in range(3)])\n",
    "\n",
    "circuit.x([1])\n",
    "\n",
    "circuit.append(ccry(teta[4]),[q for q in range(3)])\n",
    "circuit.x(2)\n",
    "circuit.x(1)\n",
    "circuit.append(ccry(teta[5]),[q for q in range(3)])\n",
    "circuit.x(1)\n",
    "circuit.append(ccry(teta[6]),[q for q in range(3)])\n",
    "\n",
    "\n",
    "# measurement \n",
    "# Add Hadamard gate before put measurement gate to change measurement axis from z to x \n",
    "circuit.h(q[0])\n",
    "circuit.h(q[1])\n",
    "circuit.h(2)\n",
    "\n",
    "circuit.measure(range(3), range(3))\n",
    "circuit.draw('mpl')"
   ]
  },
  {
   "cell_type": "code",
   "execution_count": 22,
   "metadata": {},
   "outputs": [],
   "source": [
    "# 1. Quantum_module_Z caculate expectation energy for terms of sigma z \n",
    "def module_Z(teta):\n",
    "    q = QuantumRegister(n)\n",
    "    c = ClassicalRegister(n)\n",
    "    circuit = QuantumCircuit(q, c)\n",
    "\n",
    "    # quantum state preparation\n",
    "    q = circuit.qregs[0]\n",
    "    circuit.ry(teta[0], 2)\n",
    "    #circuit.x(2)\n",
    "\n",
    "    circuit.cry(teta[1], 2, 1)\n",
    "    circuit.x(2)\n",
    "\n",
    "    circuit.cry(teta[2], 2, 1)\n",
    "    circuit.x([1,2])\n",
    "    \n",
    "    for j in range(1, 2**m+1):\n",
    "        qc.aapend(MCU3(m, teta[]), [q for q in range(n)])\n",
    "#     circuit.append(ccry(teta[3]),[q for q in range(3)])\n",
    "\n",
    "#     circuit.x([1])\n",
    "\n",
    "#     circuit.append(ccry(teta[4]),[q for q in range(3)])\n",
    "#     circuit.x(2)\n",
    "#     circuit.x(1)\n",
    "#     circuit.append(ccry(teta[5]),[q for q in range(3)])\n",
    "#     circuit.x(1)\n",
    "#     circuit.append(ccry(teta[6]),[q for q in range(3)])\n",
    "\n",
    "   \n",
    "    \n",
    "    \n",
    "   \n",
    "    circuit.measure(range(3),range(3))\n",
    "# Executing the circuit by qasm_simulation to caculate energy from result.get(counts)    \n",
    "    shots = 18192\n",
    "    backend = BasicAer.get_backend('qasm_simulator')\n",
    "    result = execute(circuit, backend, shots=shots).result()\n",
    "    counts = result.get_counts()\n",
    "    \n",
    "# get full possible keys for counts otherwise we might encounter KeyError where we count nothing for a key\n",
    "# Remember dic is the list that contain all 2^4=16 possible keys, appending key for count where key in dic but not in count     \n",
    "    for i in dic:\n",
    "        if i not in counts:\n",
    "            counts[i] = 0\n",
    "# function to calculate probability\n",
    "    def prob(j):\n",
    "        e = 0\n",
    "        for i in counts.keys():\n",
    "            if i[j] == i[(j+1)%3]:\n",
    "                e += counts[i]\n",
    "            else:\n",
    "                e -= counts[i]\n",
    "        return e/shots\n",
    "\n",
    "    # expectation value of energy estimation from counts\n",
    "    E_J = -(prob(0) + prob(1) + prob(2))\n",
    "    return E_J\n",
    "# 2. Quantum_module_X caculate expectation energy for terms of sigma x\n",
    "def module_X(teta):\n",
    "    q = QuantumRegister(3)\n",
    "    c = ClassicalRegister(3)\n",
    "    circuit = QuantumCircuit(q, c)\n",
    "\n",
    "    # quantum state preparation\n",
    "    q = circuit.qregs[0]\n",
    "    circuit.ry(teta[0], 2)\n",
    "    #circuit.x(2)\n",
    "\n",
    "    circuit.cry(teta[1], 2, 1)\n",
    "    circuit.x(2)\n",
    "\n",
    "    circuit.cry(teta[2], 2, 1)\n",
    "    circuit.x([1,2])\n",
    "\n",
    "    circuit.append(ccry(teta[3]),[q for q in range(3)])\n",
    "\n",
    "    circuit.x([1])\n",
    "\n",
    "    circuit.append(ccry(teta[4]),[q for q in range(3)])\n",
    "    circuit.x(2)\n",
    "    circuit.x(1)\n",
    "    circuit.append(ccry(teta[5]),[q for q in range(3)])\n",
    "    circuit.x(1)\n",
    "    circuit.append(ccry(teta[6]),[q for q in range(3)])\n",
    "\n",
    "\n",
    "   # measurement \n",
    "# Add Hadamard gate before put measurement gate to change measurement axis from z to x \n",
    "    circuit.h(q[0])\n",
    "    circuit.h(q[1])\n",
    "    circuit.h(2)\n",
    "   \n",
    "    circuit.measure(range(3), range(3))\n",
    "    \n",
    "# Executing the circuit by qasm_simulation to caculate energy from result.get(counts)    \n",
    "\n",
    "    shots = 18192\n",
    "    backend = BasicAer.get_backend('qasm_simulator')\n",
    "    result = execute(circuit, backend, shots=shots).result()\n",
    "    counts = result.get_counts()\n",
    "\n",
    "# get full possible keys for counts otherwise we might encounter KeyError where we count nothing for a key\n",
    "# Remember dic is the list that contain all 2^4=16 possible keys, appending key for count where key in dic but not in count \n",
    "    \n",
    "    for i in dic:\n",
    "        if i not in counts:\n",
    "            counts[i] = 0\n",
    "# function to calculate probability\n",
    "    def prob(j):\n",
    "        e = 0\n",
    "        for i in counts.keys():\n",
    "            #i = i[::-1]\n",
    "            if i[j] == '0':\n",
    "                e += counts[i]\n",
    "            else:\n",
    "                e -= counts[i]\n",
    "        return e/shots \n",
    "# expectation value estimation from counts\n",
    "\n",
    "    E_Z = -(prob(0)+prob(1)+prob(2))\n",
    "    return E_Z\n",
    "\n",
    "# expectation value total \n",
    "def vqe(teta):\n",
    "    # Summing the measurement results\n",
    "    classical_adder = module_Z(teta) + h * module_X(teta)\n",
    "    return classical_adder"
   ]
  },
  {
   "cell_type": "code",
   "execution_count": 2,
   "metadata": {},
   "outputs": [],
   "source": [
    "from Ising_n_exact import *"
   ]
  },
  {
   "cell_type": "code",
   "execution_count": 31,
   "metadata": {},
   "outputs": [
    {
     "name": "stdout",
     "output_type": "stream",
     "text": [
      "4\n"
     ]
    }
   ],
   "source": [
    "n = 3\n",
    "h = float(input())"
   ]
  },
  {
   "cell_type": "code",
   "execution_count": 32,
   "metadata": {},
   "outputs": [
    {
     "name": "stdout",
     "output_type": "stream",
     "text": [
      "-4.070367516975992\n",
      "[-0.42504409 -0.32626039 -0.32626039 -0.32626039 -0.32626039 -0.32626039\n",
      " -0.32626039 -0.42504409]\n"
     ]
    }
   ],
   "source": [
    "Emin_exact,vec_Emin_exact=groundsate(n,h)\n",
    "print(Emin_exact/3)\n",
    "print(vec_Emin_exact)"
   ]
  },
  {
   "cell_type": "code",
   "execution_count": 33,
   "metadata": {},
   "outputs": [
    {
     "name": "stdout",
     "output_type": "stream",
     "text": [
      "[-0.42504409 -0.32626039 -0.32626039 -0.32626039 -0.32626039 -0.32626039\n",
      " -0.32626039 -0.42504409]\n"
     ]
    }
   ],
   "source": [
    "Psi=vec_Emin_exact\n",
    "print(Psi)"
   ]
  },
  {
   "cell_type": "code",
   "execution_count": 34,
   "metadata": {},
   "outputs": [
    {
     "name": "stdout",
     "output_type": "stream",
     "text": [
      "[1.5707963267948968, 1.4218125251695366, 1.7197801284202567, 1.3093303465082613, 1.5707963267948957, 1.5707963267948957, 1.832262307081534]\n"
     ]
    }
   ],
   "source": [
    "theta = Theta(Psi)\n",
    "print(theta)"
   ]
  },
  {
   "cell_type": "code",
   "execution_count": 29,
   "metadata": {},
   "outputs": [
    {
     "data": {
      "text/plain": [
       "-3.099091175608326"
      ]
     },
     "execution_count": 29,
     "metadata": {},
     "output_type": "execute_result"
    }
   ],
   "source": [
    "vqe(theta)/3"
   ]
  },
  {
   "cell_type": "code",
   "execution_count": 81,
   "metadata": {},
   "outputs": [],
   "source": [
    "thetas = []\n",
    "yvqe = []\n",
    "for k in range(0,20):\n",
    "    h = k/10\n",
    "    Emin_exact,vec_Emin_exact=groundsate(n,h)\n",
    "    Psi=vec_Emin_exact\n",
    "    theta = Theta(Psi)\n",
    "    thetas.append(theta)\n",
    "    vqe_result = minimize(vqe, theta , method=\"COBYLA\", tol=tol)\n",
    "    yvqe.append(vqe_result.fun)\n",
    "\n"
   ]
  },
  {
   "cell_type": "code",
   "execution_count": 82,
   "metadata": {},
   "outputs": [
    {
     "data": {
      "text/plain": [
       "Text(0.5, 1.0, 'VQE vs Exact Diagonal')"
      ]
     },
     "execution_count": 82,
     "metadata": {},
     "output_type": "execute_result"
    },
    {
     "data": {
      "image/png": "[encoded data removed]",
      "text/plain": [
       "<Figure size 432x288 with 1 Axes>"
      ]
     },
     "metadata": {
      "needs_background": "light"
     },
     "output_type": "display_data"
    }
   ],
   "source": [
    "ymean = np.array(yvqe)/3\n",
    "\n",
    "x = []\n",
    "for k in range(0,20):\n",
    "    x.append(k/10)\n",
    "\n",
    "plot(x,ymean,'bs', label='VQE')\n",
    "plot(x,z_mean, 'r--',label='Exact')\n",
    "\n",
    "plt.xlabel('h')\n",
    "plt.ylabel('E/N with N = 2')\n",
    "plt.title('VQE vs Exact Diagonal')"
   ]
  },
  {
   "cell_type": "code",
   "execution_count": 84,
   "metadata": {},
   "outputs": [
    {
     "name": "stdout",
     "output_type": "stream",
     "text": [
      "[-1.         -1.00186895 -1.01077397 -1.02675901 -1.04900322 -1.07543609\n",
      " -1.11323659 -1.15572779 -1.21322193 -1.27176415 -1.33747435 -1.39484022\n",
      " -1.46146291 -1.54975447 -1.62285987 -1.71326224 -1.80751979 -1.88700161\n",
      " -1.97490472 -2.05877675]\n"
     ]
    }
   ],
   "source": [
    "print(ymean)"
   ]
  },
  {
   "cell_type": "code",
   "execution_count": null,
   "metadata": {},
   "outputs": [],
   "source": [
    "## teta 00000\n"
   ]
  },
  {
   "cell_type": "code",
   "execution_count": 85,
   "metadata": {},
   "outputs": [],
   "source": [
    "thetas = []\n",
    "yvqe0 = []\n",
    "for k in range(0,20):\n",
    "    h = k/10\n",
    "    #\n",
    "    vqe_result = minimize(vqe, [0]*7 , method=\"COBYLA\", tol=tol)\n",
    "    yvqe0.append(vqe_result.fun)\n",
    "\n"
   ]
  },
  {
   "cell_type": "code",
   "execution_count": 86,
   "metadata": {},
   "outputs": [
    {
     "data": {
      "text/plain": [
       "Text(0.5, 1.0, 'VQE vs Exact Diagonal')"
      ]
     },
     "execution_count": 86,
     "metadata": {},
     "output_type": "execute_result"
    },
    {
     "data": {
      "image/png": "[encoded data removed]",
      "text/plain": [
       "<Figure size 432x288 with 1 Axes>"
      ]
     },
     "metadata": {
      "needs_background": "light"
     },
     "output_type": "display_data"
    }
   ],
   "source": [
    "ymean0 = np.array(yvqe0)/3\n",
    "\n",
    "x = []\n",
    "for k in range(0,20):\n",
    "    x.append(k/10)\n",
    "\n",
    "plot(x,ymean0,'bs', label='VQE')\n",
    "plot(x,z_mean, 'r--',label='Exact')\n",
    "\n",
    "plt.xlabel('h')\n",
    "plt.ylabel('E/N with N = 2')\n",
    "plt.title('VQE vs Exact Diagonal')"
   ]
  },
  {
   "cell_type": "code",
   "execution_count": 87,
   "metadata": {},
   "outputs": [
    {
     "name": "stdout",
     "output_type": "stream",
     "text": [
      "[-1.         -1.00086485 -1.00721196 -1.02167619 -1.04217238 -1.0443968\n",
      " -1.07796101 -1.11317062 -1.13840516 -1.16977792 -1.21712841 -1.33930299\n",
      " -1.37628262 -1.45635444 -1.59201847 -1.69217238 -1.78562005 -1.85771401\n",
      " -1.95242597 -1.98057021]\n"
     ]
    }
   ],
   "source": [
    "print(ymean0)"
   ]
  },
  {
   "cell_type": "code",
   "execution_count": 91,
   "metadata": {},
   "outputs": [
    {
     "data": {
      "text/plain": [
       "     fun: -3.7772216796875\n",
       "   maxcv: 0.0\n",
       " message: 'Optimization terminated successfully.'\n",
       "    nfev: 66\n",
       "  status: 1\n",
       " success: True\n",
       "       x: array([0.73694153, 2.31938935, 0.79229103, 2.56518537, 1.57173674,\n",
       "       1.65870801, 2.7673211 ])"
      ]
     },
     "execution_count": 91,
     "metadata": {},
     "output_type": "execute_result"
    }
   ],
   "source": [
    "teta0 = [1.5707963267948974, 1.0935651336364978, 2.0480275199532962, 0.8898866921419625, 1.5707963267948966, 1.5707963267948966, 2.2517059614478323]\n",
    "tol = 1e-3 \n",
    "h = 1.5\n",
    "vqe_res = minimize(vqe, teta0 , method=\"COBYLA\", tol=tol)\n",
    "vqe_res"
   ]
  },
  {
   "cell_type": "code",
   "execution_count": 18,
   "metadata": {},
   "outputs": [
    {
     "data": {
      "text/plain": [
       "     fun: -4.7471923828125\n",
       "   maxcv: 0.0\n",
       " message: 'Optimization terminated successfully.'\n",
       "    nfev: 71\n",
       "  status: 1\n",
       " success: True\n",
       "       x: array([2.24641534, 2.22631263, 2.01934732, 2.20564569, 1.67071836,\n",
       "       1.69931505, 2.06923498])"
      ]
     },
     "execution_count": 18,
     "metadata": {},
     "output_type": "execute_result"
    }
   ],
   "source": [
    "teta0 = [1.5707963267948974, 1.0935651336364978, 2.0480275199532962, 0.8898866921419625, 1.5707963267948966, 1.5707963267948966, 2.2517059614478323]\n",
    "tol = 1e-3 \n",
    "h = 1.5\n",
    "vqe_res = minimize(vqe, teta0 , method=\"COBYLA\", tol=tol)\n",
    "vqe_res"
   ]
  },
  {
   "cell_type": "code",
   "execution_count": 21,
   "metadata": {},
   "outputs": [
    {
     "data": {
      "text/plain": [
       "-1.5823974609375"
      ]
     },
     "execution_count": 21,
     "metadata": {},
     "output_type": "execute_result"
    }
   ],
   "source": [
    "vqe_res.fun/3"
   ]
  },
  {
   "cell_type": "code",
   "execution_count": null,
   "metadata": {},
   "outputs": [],
   "source": []
  },
  {
   "cell_type": "code",
   "execution_count": 57,
   "metadata": {},
   "outputs": [],
   "source": [
    "# from numpy import random\n",
    "# l = np.pi*random.rand()\n",
    "#teta0=[np.pi/6]*7\n",
    "tol = 1e-3 # tolerance for optimization precision.\n",
    "# Get expectation energy by optimization with corresponding h = 0.1, 0.2,..., 2.9, 3. \n",
    "y_vqe = []\n",
    "for k in range(0,20):\n",
    "    h = k/10\n",
    "    vqe_result = minimize(vqe, theta , method=\"COBYLA\", tol=tol)\n",
    "    y_vqe.append(vqe_result.fun)"
   ]
  },
  {
   "cell_type": "code",
   "execution_count": 58,
   "metadata": {},
   "outputs": [],
   "source": [
    "z = [-3., -3.00788, -3.03303, -3.07764, -3.14356, -3.23205, -3.34356, \n",
    "-3.47764, -3.63303, -3.80788, -4., -4.20713, -4.42711, -4.65797, \n",
    "-4.898, -5.14575, -5.4, -5.65973, -5.9241, -6.19242]"
   ]
  },
  {
   "cell_type": "code",
   "execution_count": 13,
   "metadata": {},
   "outputs": [
    {
     "data": {
      "text/plain": [
       "20"
      ]
     },
     "execution_count": 13,
     "metadata": {},
     "output_type": "execute_result"
    }
   ],
   "source": [
    "len(z)"
   ]
  },
  {
   "cell_type": "code",
   "execution_count": 59,
   "metadata": {},
   "outputs": [],
   "source": [
    "z_mean = np.array(z)/3"
   ]
  },
  {
   "cell_type": "code",
   "execution_count": 15,
   "metadata": {},
   "outputs": [],
   "source": [
    "#ket qua chay thu 3 ngay mung 14/12"
   ]
  },
  {
   "cell_type": "code",
   "execution_count": 60,
   "metadata": {},
   "outputs": [
    {
     "data": {
      "text/plain": [
       "Text(0.5, 1.0, 'VQE vs Exact Diagonal')"
      ]
     },
     "execution_count": 60,
     "metadata": {},
     "output_type": "execute_result"
    },
    {
     "data": {
      "image/png": "[encoded data removed]",
      "text/plain": [
       "<Figure size 432x288 with 1 Axes>"
      ]
     },
     "metadata": {
      "needs_background": "light"
     },
     "output_type": "display_data"
    }
   ],
   "source": [
    "y_mean = np.array(y_vqe)/3\n",
    "\n",
    "x = []\n",
    "for k in range(0,20):\n",
    "    x.append(k/10)\n",
    "\n",
    "plot(x,y_mean,'bs', label='VQE')\n",
    "plot(x,z_mean, 'r--',label='Exact')\n",
    "\n",
    "plt.xlabel('h')\n",
    "plt.ylabel('E/N with N = 2')\n",
    "plt.title('VQE vs Exact Diagonal')"
   ]
  },
  {
   "cell_type": "code",
   "execution_count": null,
   "metadata": {},
   "outputs": [],
   "source": []
  },
  {
   "cell_type": "code",
   "execution_count": null,
   "metadata": {},
   "outputs": [],
   "source": [
    "# ket qua cu "
   ]
  },
  {
   "cell_type": "code",
   "execution_count": 142,
   "metadata": {},
   "outputs": [
    {
     "data": {
      "text/plain": [
       "Text(0.5, 1.0, 'VQE vs Exact Diagonal')"
      ]
     },
     "execution_count": 142,
     "metadata": {},
     "output_type": "execute_result"
    },
    {
     "data": {
      "image/png": "[encoded data removed]",
      "text/plain": [
       "<Figure size 432x288 with 1 Axes>"
      ]
     },
     "metadata": {
      "needs_background": "light"
     },
     "output_type": "display_data"
    }
   ],
   "source": [
    "y_mean = np.array(y_vqe)/3\n",
    "\n",
    "x = []\n",
    "for k in range(0,20):\n",
    "    x.append(k/10)\n",
    "\n",
    "plot(x,y_mean,'bs', label='VQE')\n",
    "plot(x,z_mean, 'r--',label='Exact')\n",
    "\n",
    "plt.xlabel('h')\n",
    "plt.ylabel('E/N with N = 2')\n",
    "plt.title('VQE vs Exact Diagonal')"
   ]
  },
  {
   "cell_type": "code",
   "execution_count": 83,
   "metadata": {},
   "outputs": [
    {
     "data": {
      "text/plain": [
       "<qiskit.circuit.instructionset.InstructionSet at 0x7faccd591b50>"
      ]
     },
     "execution_count": 83,
     "metadata": {},
     "output_type": "execute_result"
    }
   ],
   "source": [
    "teta = [0]*7\n",
    "q = QuantumRegister(3)\n",
    "c = ClassicalRegister(3)\n",
    "circuit = QuantumCircuit(q, c)\n",
    "\n",
    "# quantum state preparation\n",
    "q = circuit.qregs[0]\n",
    "\n",
    "circuit.ry(teta[0], 2)\n",
    "circuit.cry(teta[1], 2, 1)\n",
    "circuit.x(2)\n",
    "\n",
    "circuit.cry(teta[2], 2, 1)\n",
    "circuit.x(2)\n",
    "circuit.append(ccry(teta[3]),[q for q in range(3)])\n",
    "\n",
    "circuit.x(1)\n",
    "circuit.append(ccry(teta[4]),[q for q in range(3)])\n",
    "circuit.x(2)\n",
    "circuit.x(1)\n",
    "circuit.append(ccry(teta[5]),[q for q in range(3)])\n",
    "circuit.x(1)\n",
    "circuit.append(ccry(teta[6]),[q for q in range(3)])\n",
    "circuit.x(2)\n",
    "circuit.x(1)\n"
   ]
  },
  {
   "cell_type": "code",
   "execution_count": 84,
   "metadata": {},
   "outputs": [
    {
     "data": {
      "image/png": "[encoded data removed]",
      "text/plain": [
       "<Figure size 1177.45x264.88 with 1 Axes>"
      ]
     },
     "execution_count": 84,
     "metadata": {},
     "output_type": "execute_result"
    }
   ],
   "source": [
    "circuit.draw('mpl')"
   ]
  },
  {
   "cell_type": "code",
   "execution_count": 87,
   "metadata": {},
   "outputs": [
    {
     "data": {
      "image/png": "[encoded data removed]",
      "text/plain": [
       "<Figure size 1177.45x264.88 with 1 Axes>"
      ]
     },
     "execution_count": 87,
     "metadata": {},
     "output_type": "execute_result"
    }
   ],
   "source": [
    "q = QuantumRegister(3)\n",
    "c = ClassicalRegister(3)\n",
    "circuit = QuantumCircuit(q, c)\n",
    "\n",
    "# quantum state preparation\n",
    "q = circuit.qregs[0]\n",
    "\n",
    "circuit.ry(teta[0], 2)\n",
    "circuit.cry(teta[1], 2, 1)\n",
    "circuit.x(2)\n",
    "\n",
    "circuit.cry(teta[2], 2, 1)\n",
    "circuit.x(2)\n",
    "circuit.append(ccry(teta[3]),[q for q in range(3)])\n",
    "\n",
    "circuit.x(1)\n",
    "circuit.append(ccry(teta[4]),[q for q in range(3)])\n",
    "circuit.x(2)\n",
    "circuit.x(1)\n",
    "circuit.append(ccry(teta[5]),[q for q in range(3)])\n",
    "circuit.x(1)\n",
    "circuit.append(ccry(teta[6]),[q for q in range(3)])\n",
    "circuit.x(2)\n",
    "circuit.x(1)\n",
    "circuit.draw('mpl')"
   ]
  },
  {
   "cell_type": "code",
   "execution_count": null,
   "metadata": {},
   "outputs": [],
   "source": []
  },
  {
   "cell_type": "code",
   "execution_count": 133,
   "metadata": {},
   "outputs": [
    {
     "data": {
      "text/plain": [
       "20"
      ]
     },
     "execution_count": 133,
     "metadata": {},
     "output_type": "execute_result"
    }
   ],
   "source": [
    "x = []\n",
    "for k in range(0,20):\n",
    "    x.append(k/10)\n",
    "len(x)"
   ]
  },
  {
   "cell_type": "code",
   "execution_count": null,
   "metadata": {},
   "outputs": [],
   "source": []
  },
  {
   "cell_type": "code",
   "execution_count": 30,
   "metadata": {},
   "outputs": [
    {
     "data": {
      "image/png": "[encoded data removed]",
      "text/plain": [
       "<Figure size 441.777x204.68 with 1 Axes>"
      ]
     },
     "execution_count": 30,
     "metadata": {},
     "output_type": "execute_result"
    }
   ],
   "source": [
    "theta=1\n",
    "qc = QuantumCircuit(3)\n",
    "qc.cry(theta, 1, 2)\n",
    "qc.cx(0,1)\n",
    "qc.cry(-theta, 1, 2)\n",
    "qc.cx(0,1)\n",
    "qc.cry(theta, 0, 2)\n",
    "qc.draw('mpl')"
   ]
  },
  {
   "cell_type": "code",
   "execution_count": 7,
   "metadata": {},
   "outputs": [
    {
     "data": {
      "image/png": "[encoded data removed]",
      "text/plain": [
       "<Figure size 441.777x204.68 with 1 Axes>"
      ]
     },
     "execution_count": 7,
     "metadata": {},
     "output_type": "execute_result"
    }
   ],
   "source": [
    "teta=1\n",
    "qc = QuantumCircuit(3)\n",
    "qc.cry(teta/2, 1, 0)\n",
    "qc.cx(2,1)\n",
    "qc.cry(-teta/2, 1, 0)\n",
    "qc.cx(2,1)\n",
    "qc.cry(teta/2, 2, 0)\n",
    "qc.draw('mpl')"
   ]
  },
  {
   "cell_type": "code",
   "execution_count": 95,
   "metadata": {},
   "outputs": [],
   "source": [
    "def ccry(theta):\n",
    "    qc = QuantumCircuit(3)\n",
    "    qc.cry(theta/2, 1, 2)\n",
    "    qc.cx(0,1)\n",
    "    qc.cry(-theta/2, 1, 2)\n",
    "    qc.cx(0,1)\n",
    "    qc.cry(theta/2, 0, 2)\n",
    "    U = qc.to_gate()\n",
    "    qc.name = 'CCRY'\n",
    "    return U"
   ]
  },
  {
   "cell_type": "code",
   "execution_count": 92,
   "metadata": {},
   "outputs": [
    {
     "data": {
      "image/png": "[encoded data removed]",
      "text/plain": [
       "<Figure size 441.777x204.68 with 1 Axes>"
      ]
     },
     "execution_count": 92,
     "metadata": {},
     "output_type": "execute_result"
    }
   ],
   "source": [
    "qc = QuantumCircuit(3)\n",
    "qc.cry(theta, 1, 2)\n",
    "qc.cx(0,1)\n",
    "qc.cry(-theta, 1, 2)\n",
    "qc.cx(0,1)\n",
    "qc.cry(theta, 0, 2)\n",
    "U = qc.to_gate\n",
    "qc.name = 'CCRY'\n",
    "qc.draw('mpl')"
   ]
  },
  {
   "cell_type": "code",
   "execution_count": 94,
   "metadata": {},
   "outputs": [
    {
     "data": {
      "text/html": [
       "<pre style=\"word-wrap: normal;white-space: pre;background: #fff0;line-height: 1.1;font-family: &quot;Courier New&quot;,Courier,monospace\">     ┌───┐┌─────────────┐\n",
       "q_0: ┤ X ├┤0            ├\n",
       "     ├───┤│             │\n",
       "q_1: ┤ X ├┤1 circuit195 ├\n",
       "     └───┘│             │\n",
       "q_2: ─────┤2            ├\n",
       "          └─────────────┘</pre>"
      ],
      "text/plain": [
       "     ┌───┐┌─────────────┐\n",
       "q_0: ┤ X ├┤0            ├\n",
       "     ├───┤│             │\n",
       "q_1: ┤ X ├┤1 circuit195 ├\n",
       "     └───┘│             │\n",
       "q_2: ─────┤2            ├\n",
       "          └─────────────┘"
      ]
     },
     "execution_count": 94,
     "metadata": {},
     "output_type": "execute_result"
    }
   ],
   "source": [
    "qqc = QuantumCircuit(3)\n",
    "qqc.x(0)\n",
    "qqc.x(1)\n",
    "qqc.append(ccry(2),[q for q in range(3)])\n",
    "qqc.draw()"
   ]
  },
  {
   "cell_type": "code",
   "execution_count": 123,
   "metadata": {},
   "outputs": [
    {
     "data": {
      "image/png": "[encoded data removed]",
      "text/plain": [
       "<Figure size 504x360 with 1 Axes>"
      ]
     },
     "execution_count": 123,
     "metadata": {},
     "output_type": "execute_result"
    }
   ],
   "source": [
    "qc = QuantumCircuit(3,3)\n",
    "qc.h(0)\n",
    "qc.h(1)\n",
    "qc.h(2)\n",
    "qc.append(ccry(np.pi/5),[q for q in range(3)])\n",
    "circuit = qc\n",
    "circuit.measure(range(3), range(3))\n",
    "\n",
    "# Executing the circuit by qasm_simulation to caculate energy from result.get(counts)    \n",
    "\n",
    "shots = 8192\n",
    "backend = BasicAer.get_backend('qasm_simulator')\n",
    "result = execute(circuit, backend, shots=shots).result()\n",
    "counts = result.get_counts()\n",
    "plot_histogram(counts)"
   ]
  },
  {
   "cell_type": "code",
   "execution_count": 15,
   "metadata": {},
   "outputs": [],
   "source": [
    "from qiskit.visualization import plot_histogram"
   ]
  },
  {
   "cell_type": "code",
   "execution_count": 85,
   "metadata": {},
   "outputs": [
    {
     "data": {
      "image/png": "[encoded data removed]",
      "text/plain": [
       "<Figure size 504x360 with 1 Axes>"
      ]
     },
     "execution_count": 85,
     "metadata": {},
     "output_type": "execute_result"
    }
   ],
   "source": []
  },
  {
   "cell_type": "code",
   "execution_count": 100,
   "metadata": {},
   "outputs": [
    {
     "data": {
      "image/png": "[encoded data removed]",
      "text/plain": [
       "<Figure size 504x360 with 1 Axes>"
      ]
     },
     "execution_count": 100,
     "metadata": {},
     "output_type": "execute_result"
    }
   ],
   "source": [
    "qc = QuantumCircuit(1,1)\n",
    "qc.ry(np.pi/4,0)\n",
    "\n",
    "circuit = qc\n",
    "circuit.measure(range(1), range(1))\n",
    "\n",
    "# Executing the circuit by qasm_simulation to caculate energy from result.get(counts)    \n",
    "\n",
    "shots = 8192\n",
    "backend = BasicAer.get_backend('qasm_simulator')\n",
    "result = execute(circuit, backend, shots=shots).result()\n",
    "counts = result.get_counts()\n",
    "plot_histogram(counts)"
   ]
  },
  {
   "cell_type": "code",
   "execution_count": 109,
   "metadata": {},
   "outputs": [
    {
     "data": {
      "image/png": "[encoded data removed]",
      "text/plain": [
       "<Figure size 1164.18x264.88 with 1 Axes>"
      ]
     },
     "execution_count": 109,
     "metadata": {},
     "output_type": "execute_result"
    }
   ],
   "source": [
    "teta = [0,1,2,3,4,5,6]\n",
    "qc = QuantumCircuit(3,3)\n",
    "q = circuit.qregs[0]\n",
    "\n",
    "qc.draw('mpl')"
   ]
  },
  {
   "cell_type": "code",
   "execution_count": 24,
   "metadata": {},
   "outputs": [],
   "source": [
    "from qiskit.circuit.library import MCMT\n"
   ]
  },
  {
   "cell_type": "code",
   "execution_count": 70,
   "metadata": {},
   "outputs": [
    {
     "data": {
      "image/png": "[encoded data removed]",
      "text/plain": [
       "<Figure size 802.977x204.68 with 1 Axes>"
      ]
     },
     "execution_count": 70,
     "metadata": {},
     "output_type": "execute_result"
    }
   ],
   "source": [
    "qc = QuantumCircuit(3)\n",
    "q = qc.qregs[0]\n",
    "c2x = MCMT('x', 2 , 1, label=None)\n",
    "c2x.decompose().decompose().draw(output='mpl')\n",
    "\n",
    "\n",
    "\n",
    "qc = QuantumCircuit(3)\n",
    "q = qc.qregs[0]\n",
    "c2x = MCMT('y', 2 , 1, label=None)\n",
    "c2x.draw()"
   ]
  },
  {
   "cell_type": "code",
   "execution_count": 4,
   "metadata": {},
   "outputs": [],
   "source": [
    "from qiskit.circuit.library import MCMT\n"
   ]
  },
  {
   "cell_type": "code",
   "execution_count": 8,
   "metadata": {},
   "outputs": [],
   "source": [
    "from qiskit.circuit.library.standard_gates.multi_control_rotation_gates import *\n"
   ]
  },
  {
   "cell_type": "code",
   "execution_count": 5,
   "metadata": {},
   "outputs": [],
   "source": [
    "from qiskit.circuit.quantumregister import AncillaQubit, AncillaRegister\n",
    "ancreg = AncillaRegister(1)\n",
    "anc = AncillaQubit(ancreg, 0)"
   ]
  },
  {
   "cell_type": "code",
   "execution_count": 6,
   "metadata": {},
   "outputs": [],
   "source": [
    "ancreg = AncillaRegister(1)\n",
    "anc = AncillaQubit(ancreg, 0)"
   ]
  },
  {
   "cell_type": "code",
   "execution_count": 34,
   "metadata": {},
   "outputs": [
    {
     "data": {
      "text/plain": [
       "[Qubit(QuantumRegister(4, 'q'), 0),\n",
       " Qubit(QuantumRegister(4, 'q'), 1),\n",
       " Qubit(QuantumRegister(4, 'q'), 2),\n",
       " Qubit(QuantumRegister(4, 'q'), 3)]"
      ]
     },
     "execution_count": 34,
     "metadata": {},
     "output_type": "execute_result"
    }
   ],
   "source": [
    "lisCon = list(Qubit(q, i) for i in range(4))\n",
    "lisCon"
   ]
  },
  {
   "cell_type": "code",
   "execution_count": 19,
   "metadata": {},
   "outputs": [
    {
     "data": {
      "text/plain": [
       "[Qubit(QuantumRegister(4, 'q'), 0),\n",
       " Qubit(QuantumRegister(4, 'q'), 1),\n",
       " Qubit(QuantumRegister(4, 'q'), 2),\n",
       " Qubit(QuantumRegister(4, 'q'), 3)]"
      ]
     },
     "execution_count": 19,
     "metadata": {},
     "output_type": "execute_result"
    }
   ],
   "source": [
    "[q[i] for i in range(4)]"
   ]
  },
  {
   "cell_type": "code",
   "execution_count": 19,
   "metadata": {},
   "outputs": [],
   "source": [
    "m = 2\n",
    "n = 5\n",
    "Qc = QuantumRegister(n)\n",
    "#Cc = ClassicalRegister(n)\n",
    "qc = QuantumCircuit(Qc, ancreg)\n",
    "# mcry(qc, np.pi/2, list(Qc[i] for i in range(n-1, n-m-1, -1)), Qubit(Qc, n-m-1), ancreg, mode='basic',\n",
    "# use_basis_gates=False)\n",
    "# qc.draw('mpl')\n",
    "q = qc.qregs[0]\n"
   ]
  },
  {
   "cell_type": "code",
   "execution_count": 15,
   "metadata": {},
   "outputs": [],
   "source": [
    "def MCU3(self, m, angle):\n",
    "#     Qc = QuantumRegister(n)\n",
    "#     qc = QuantumCircuit(Qc, ancreg)\n",
    "    mcry(qc, angle, list(Qc[i] for i in range(n-1, n-m-1, -1)), Qubit(Qc, n-m-1), ancreg, mode='basic',\n",
    "    use_basis_gates=False)\n",
    "    U = self.to_gate()\n",
    "    return U    "
   ]
  },
  {
   "cell_type": "code",
   "execution_count": 17,
   "metadata": {},
   "outputs": [
    {
     "data": {
      "text/plain": [
       "<qiskit.circuit.gate.Gate at 0x7fc2731dfe20>"
      ]
     },
     "execution_count": 17,
     "metadata": {},
     "output_type": "execute_result"
    }
   ],
   "source": [
    "MCU3(qc, 3, 1)"
   ]
  },
  {
   "cell_type": "code",
   "execution_count": 20,
   "metadata": {},
   "outputs": [
    {
     "ename": "CircuitError",
     "evalue": "'The amount of qubit/clbit arguments does not match the gate expectation.'",
     "output_type": "error",
     "traceback": [
      "\u001b[0;31m---------------------------------------------------------------------------\u001b[0m",
      "\u001b[0;31mCircuitError\u001b[0m                              Traceback (most recent call last)",
      "\u001b[0;32m<ipython-input-20-525f27d26786>\u001b[0m in \u001b[0;36m<module>\u001b[0;34m\u001b[0m\n\u001b[0;32m----> 1\u001b[0;31m \u001b[0mqc\u001b[0m\u001b[0;34m.\u001b[0m\u001b[0mappend\u001b[0m\u001b[0;34m(\u001b[0m\u001b[0mMCU3\u001b[0m\u001b[0;34m(\u001b[0m\u001b[0mqc\u001b[0m\u001b[0;34m,\u001b[0m \u001b[0;36m3\u001b[0m\u001b[0;34m,\u001b[0m \u001b[0;36m1\u001b[0m\u001b[0;34m)\u001b[0m\u001b[0;34m,\u001b[0m \u001b[0;34m[\u001b[0m\u001b[0mq\u001b[0m\u001b[0;34m[\u001b[0m\u001b[0mi\u001b[0m\u001b[0;34m]\u001b[0m \u001b[0;32mfor\u001b[0m \u001b[0mi\u001b[0m \u001b[0;32min\u001b[0m \u001b[0mrange\u001b[0m\u001b[0;34m(\u001b[0m\u001b[0mn\u001b[0m\u001b[0;34m)\u001b[0m\u001b[0;34m]\u001b[0m\u001b[0;34m)\u001b[0m\u001b[0;34m\u001b[0m\u001b[0;34m\u001b[0m\u001b[0m\n\u001b[0m",
      "\u001b[0;32m~/anaconda3/lib/python3.8/site-packages/qiskit/circuit/quantumcircuit.py\u001b[0m in \u001b[0;36mappend\u001b[0;34m(self, instruction, qargs, cargs)\u001b[0m\n\u001b[1;32m    797\u001b[0m \u001b[0;34m\u001b[0m\u001b[0m\n\u001b[1;32m    798\u001b[0m         \u001b[0minstructions\u001b[0m \u001b[0;34m=\u001b[0m \u001b[0mInstructionSet\u001b[0m\u001b[0;34m(\u001b[0m\u001b[0;34m)\u001b[0m\u001b[0;34m\u001b[0m\u001b[0;34m\u001b[0m\u001b[0m\n\u001b[0;32m--> 799\u001b[0;31m         \u001b[0;32mfor\u001b[0m \u001b[0;34m(\u001b[0m\u001b[0mqarg\u001b[0m\u001b[0;34m,\u001b[0m \u001b[0mcarg\u001b[0m\u001b[0;34m)\u001b[0m \u001b[0;32min\u001b[0m \u001b[0minstruction\u001b[0m\u001b[0;34m.\u001b[0m\u001b[0mbroadcast_arguments\u001b[0m\u001b[0;34m(\u001b[0m\u001b[0mexpanded_qargs\u001b[0m\u001b[0;34m,\u001b[0m \u001b[0mexpanded_cargs\u001b[0m\u001b[0;34m)\u001b[0m\u001b[0;34m:\u001b[0m\u001b[0;34m\u001b[0m\u001b[0;34m\u001b[0m\u001b[0m\n\u001b[0m\u001b[1;32m    800\u001b[0m             \u001b[0minstructions\u001b[0m\u001b[0;34m.\u001b[0m\u001b[0madd\u001b[0m\u001b[0;34m(\u001b[0m\u001b[0mself\u001b[0m\u001b[0;34m.\u001b[0m\u001b[0m_append\u001b[0m\u001b[0;34m(\u001b[0m\u001b[0minstruction\u001b[0m\u001b[0;34m,\u001b[0m \u001b[0mqarg\u001b[0m\u001b[0;34m,\u001b[0m \u001b[0mcarg\u001b[0m\u001b[0;34m)\u001b[0m\u001b[0;34m,\u001b[0m \u001b[0mqarg\u001b[0m\u001b[0;34m,\u001b[0m \u001b[0mcarg\u001b[0m\u001b[0;34m)\u001b[0m\u001b[0;34m\u001b[0m\u001b[0;34m\u001b[0m\u001b[0m\n\u001b[1;32m    801\u001b[0m         \u001b[0;32mreturn\u001b[0m \u001b[0minstructions\u001b[0m\u001b[0;34m\u001b[0m\u001b[0;34m\u001b[0m\u001b[0m\n",
      "\u001b[0;32m~/anaconda3/lib/python3.8/site-packages/qiskit/circuit/gate.py\u001b[0m in \u001b[0;36mbroadcast_arguments\u001b[0;34m(self, qargs, cargs)\u001b[0m\n\u001b[1;32m    211\u001b[0m         \"\"\"\n\u001b[1;32m    212\u001b[0m         \u001b[0;32mif\u001b[0m \u001b[0mlen\u001b[0m\u001b[0;34m(\u001b[0m\u001b[0mqargs\u001b[0m\u001b[0;34m)\u001b[0m \u001b[0;34m!=\u001b[0m \u001b[0mself\u001b[0m\u001b[0;34m.\u001b[0m\u001b[0mnum_qubits\u001b[0m \u001b[0;32mor\u001b[0m \u001b[0mcargs\u001b[0m\u001b[0;34m:\u001b[0m\u001b[0;34m\u001b[0m\u001b[0;34m\u001b[0m\u001b[0m\n\u001b[0;32m--> 213\u001b[0;31m             raise CircuitError(\n\u001b[0m\u001b[1;32m    214\u001b[0m                 'The amount of qubit/clbit arguments does not match the gate expectation.')\n\u001b[1;32m    215\u001b[0m \u001b[0;34m\u001b[0m\u001b[0m\n",
      "\u001b[0;31mCircuitError\u001b[0m: 'The amount of qubit/clbit arguments does not match the gate expectation.'"
     ]
    }
   ],
   "source": [
    "qc.append(MCU3(qc, 3, 1), [q[i] for i in range(n)])"
   ]
  },
  {
   "cell_type": "code",
   "execution_count": 39,
   "metadata": {},
   "outputs": [],
   "source": [
    "def decToBin(k, n): \n",
    "    q1 = bin(k).replace(\"0b\", \"\")\n",
    "    q2 = '0'*(n-len(q1)) + q1\n",
    "    q2 =q2[::-1]\n",
    "    return q2"
   ]
  },
  {
   "cell_type": "code",
   "execution_count": 46,
   "metadata": {},
   "outputs": [
    {
     "data": {
      "text/plain": [
       "'001000'"
      ]
     },
     "execution_count": 46,
     "metadata": {},
     "output_type": "execute_result"
    }
   ],
   "source": [
    "ls = decToBin(4,6)\n",
    "ls"
   ]
  },
  {
   "cell_type": "code",
   "execution_count": 47,
   "metadata": {},
   "outputs": [
    {
     "data": {
      "text/plain": [
       "'1'"
      ]
     },
     "execution_count": 47,
     "metadata": {},
     "output_type": "execute_result"
    }
   ],
   "source": [
    "ls[2]"
   ]
  },
  {
   "cell_type": "code",
   "execution_count": 133,
   "metadata": {},
   "outputs": [],
   "source": [
    "n = 3\n",
    "teta = []\n",
    "for l in range(16):\n",
    "    teta.append(2*l)\n",
    "#teta = [0,1,2,3,4,5,6,7,8,9,10,11,12,13,14,15,16]\n",
    "q = QuantumRegister(n)\n",
    "c = ClassicalRegister(n)\n",
    "ancreg = AncillaRegister(1)\n",
    "anc = AncillaQubit(ancreg, 0)\n",
    "circuit = QuantumCircuit(q, c, ancreg)\n",
    "\n",
    "# quantum state preparation\n",
    "q = circuit.qregs[0]\n",
    "circuit.ry(teta[0], n-1)\n",
    "# #circuit.x(2)\n",
    "\n",
    "# circuit.cry(teta[1], n-1, n-2)\n",
    "# circuit.x(n-1)\n",
    "\n",
    "# circuit.cry(teta[2], n-1, n-2)\n",
    "# circuit.x([n-1, n-2])\n",
    "for m in range(1, n):\n",
    "    for j in range(1, 2**m + 1):\n",
    "        if (2**(m)-2+j)%2 == 1:\n",
    "            circuit.x(n-m)\n",
    "            mcry(circuit, teta[2**(m)-2+j], list(q[i] for i in range(n-1, n-m-1, -1)), Qubit(q, n-m-1), ancreg, mode='basic',use_basis_gates=False)\n",
    "            circuit.x(n-m)\n",
    "        else:\n",
    "            mcry(circuit, teta[2**(m)-2+j], list(q[i] for i in range(n-1, n-m-1, -1)), Qubit(q, n-m-1), ancreg, mode='basic',use_basis_gates=False)\n",
    "\n",
    "    "
   ]
  },
  {
   "cell_type": "code",
   "execution_count": 134,
   "metadata": {},
   "outputs": [
    {
     "data": {
      "image/png": "[encoded data removed]",
      "text/plain": [
       "<Figure size 1685.01x686.28 with 1 Axes>"
      ]
     },
     "execution_count": 134,
     "metadata": {},
     "output_type": "execute_result"
    }
   ],
   "source": [
    "circuit.draw('mpl')"
   ]
  },
  {
   "cell_type": "code",
   "execution_count": 50,
   "metadata": {},
   "outputs": [],
   "source": [
    "n = 4\n",
    "teta = []\n",
    "for l in range(16):\n",
    "    teta.append(2*l)\n",
    "#teta = [0,1,2,3,4,5,6,7,8,9,10,11,12,13,14,15,16]\n",
    "q = QuantumRegister(n)\n",
    "c = ClassicalRegister(n)\n",
    "ancreg = AncillaRegister(1)\n",
    "anc = AncillaQubit(ancreg, 0)\n",
    "circuit = QuantumCircuit(q, c, ancreg)\n",
    "\n",
    "# quantum state preparation\n",
    "q = circuit.qregs[0]\n",
    "circuit.ry(teta[0], n-1)\n",
    "circuit.x(2)\n",
    "\n",
    "circuit.cry(teta[1], n-1, n-2)\n",
    "circuit.x(n-1)\n",
    "\n",
    "circuit.cry(teta[2], n-1, n-2)\n",
    "#circuit.x([n-1, n-2])\n",
    "kt = 2\n",
    "for m in range(2, n):\n",
    "    for j in range(0, 2**m):\n",
    "        j2 = decToBin(j, m)\n",
    "        for l in range(0, m):\n",
    "            if (j2[l] == '0'):\n",
    "                circuit.x(n-m+l)\n",
    "        kt += 1\n",
    "        mcry(circuit, teta[kt], list(q[i] for i in range(n-1, n-m-1, -1)), Qubit(q, n-m-1), ancreg, mode='basic',use_basis_gates=False)\n",
    "        for l in range(0, m):\n",
    "            if (j2[l] == '0'):\n",
    "                circuit.x(n-m+l)"
   ]
  },
  {
   "cell_type": "code",
   "execution_count": 51,
   "metadata": {},
   "outputs": [
    {
     "data": {
      "image/png": "[encoded data removed]",
      "text/plain": [
       "<Figure size 1672.17x1228.08 with 1 Axes>"
      ]
     },
     "execution_count": 51,
     "metadata": {},
     "output_type": "execute_result"
    }
   ],
   "source": [
    "circuit.draw('mpl')"
   ]
  },
  {
   "cell_type": "code",
   "execution_count": 7,
   "metadata": {},
   "outputs": [],
   "source": [
    "n = 3\n",
    "teta = []\n",
    "for l in range(16):\n",
    "    teta.append(2*l)\n",
    "#teta = [0,1,2,3,4,5,6,7,8,9,10,11,12,13,14,15,16]\n",
    "q = QuantumRegister(n)\n",
    "c = ClassicalRegister(n)\n",
    "ancreg = AncillaRegister(1)\n",
    "anc = AncillaQubit(ancreg, 0)\n",
    "circuit = QuantumCircuit(q, c, ancreg)\n",
    "\n",
    "# quantum state preparation\n",
    "q = circuit.qregs[0]\n",
    "circuit.ry(teta[0], n-1)\n",
    "circuit.x(2)\n",
    "\n",
    "circuit.cry(teta[1], n-1, n-2)\n",
    "circuit.x(n-1)\n",
    "\n",
    "circuit.cry(teta[2], n-1, n-2)\n",
    "#circuit.x([n-1, n-2])\n",
    "kt = 2\n",
    "for m in range(2, n):\n",
    "    for j in range(0, 2**m):\n",
    "        j2 = decToBin(j, m)\n",
    "        for l in range(0, m):\n",
    "            if (j2[l] == '0'):\n",
    "                circuit.x(n-m+l)\n",
    "        kt += 1\n",
    "        mcry(circuit, teta[kt], list(q[i] for i in range(n-1, n-m-1, -1)), Qubit(q, n-m-1), ancreg, mode='basic',use_basis_gates=False)\n",
    "            \n",
    "        for l in range(0, m):\n",
    "            if (j2[l] == '0'):\n",
    "                                circuit.x(n-m+l)\n"
   ]
  },
  {
   "cell_type": "code",
   "execution_count": null,
   "metadata": {},
   "outputs": [],
   "source": []
  },
  {
   "cell_type": "code",
   "execution_count": 8,
   "metadata": {},
   "outputs": [
    {
     "data": {
      "text/html": [
       "<pre style=\"word-wrap: normal;white-space: pre;background: #fff0;line-height: 1.1;font-family: &quot;Courier New&quot;,Courier,monospace\">           \n",
       "q0_0: ─────\n",
       "      ┌───┐\n",
       "q0_1: ┤ X ├\n",
       "      ├───┤\n",
       "q0_2: ┤ X ├\n",
       "      ├───┤\n",
       "q0_3: ┤ X ├\n",
       "      └───┘\n",
       "a0_0: ─────\n",
       "           \n",
       "c0: 4/═════\n",
       "           </pre>"
      ],
      "text/plain": [
       "           \n",
       "q0_0: ─────\n",
       "      ┌───┐\n",
       "q0_1: ┤ X ├\n",
       "      ├───┤\n",
       "q0_2: ┤ X ├\n",
       "      ├───┤\n",
       "q0_3: ┤ X ├\n",
       "      └───┘\n",
       "a0_0: ─────\n",
       "           \n",
       "c0: 4/═════\n",
       "           "
      ]
     },
     "execution_count": 8,
     "metadata": {},
     "output_type": "execute_result"
    }
   ],
   "source": [
    "qc.draw()"
   ]
  },
  {
   "cell_type": "code",
   "execution_count": 9,
   "metadata": {},
   "outputs": [],
   "source": [
    "mcry(qc, np.pi/2, list(Qc[i] for i in range(3, 0, -1)), Qubit(Qc, 0), ancreg, mode='basic',\n",
    "    use_basis_gates=False)"
   ]
  },
  {
   "cell_type": "code",
   "execution_count": 10,
   "metadata": {},
   "outputs": [
    {
     "data": {
      "text/plain": [
       "<qiskit.circuit.instructionset.InstructionSet at 0x7f3689b32640>"
      ]
     },
     "execution_count": 10,
     "metadata": {},
     "output_type": "execute_result"
    }
   ],
   "source": [
    "qc.measure(range(4), range(4))"
   ]
  },
  {
   "cell_type": "code",
   "execution_count": 12,
   "metadata": {},
   "outputs": [
    {
     "data": {
      "text/html": [
       "<pre style=\"word-wrap: normal;white-space: pre;background: #fff0;line-height: 1.1;font-family: &quot;Courier New&quot;,Courier,monospace\">      ┌──────────────┐┌───┐┌───────────────┐┌───┐┌─┐         \n",
       "q0_0: ┤ U3(pi/4,0,0) ├┤ X ├┤ U3(-pi/4,0,0) ├┤ X ├┤M├─────────\n",
       "      └────┬───┬─────┘└─┬─┘└───────────────┘└─┬─┘└╥┘┌─┐      \n",
       "q0_1: ─────┤ X ├────────■─────────────────────■───╫─┤M├──────\n",
       "           ├───┤        │                     │   ║ └╥┘┌─┐   \n",
       "q0_2: ─────┤ X ├────────■─────────────────────■───╫──╫─┤M├───\n",
       "           ├───┤        │                     │   ║  ║ └╥┘┌─┐\n",
       "q0_3: ─────┤ X ├────────■─────────────────────■───╫──╫──╫─┤M├\n",
       "           └───┘                                  ║  ║  ║ └╥┘\n",
       "a0_0: ────────────────────────────────────────────╫──╫──╫──╫─\n",
       "                                                  ║  ║  ║  ║ \n",
       "c0: 4/════════════════════════════════════════════╩══╩══╩══╩═\n",
       "                                                  0  1  2  3 </pre>"
      ],
      "text/plain": [
       "      ┌──────────────┐┌───┐┌───────────────┐┌───┐┌─┐         \n",
       "q0_0: ┤ U3(pi/4,0,0) ├┤ X ├┤ U3(-pi/4,0,0) ├┤ X ├┤M├─────────\n",
       "      └────┬───┬─────┘└─┬─┘└───────────────┘└─┬─┘└╥┘┌─┐      \n",
       "q0_1: ─────┤ X ├────────■─────────────────────■───╫─┤M├──────\n",
       "           ├───┤        │                     │   ║ └╥┘┌─┐   \n",
       "q0_2: ─────┤ X ├────────■─────────────────────■───╫──╫─┤M├───\n",
       "           ├───┤        │                     │   ║  ║ └╥┘┌─┐\n",
       "q0_3: ─────┤ X ├────────■─────────────────────■───╫──╫──╫─┤M├\n",
       "           └───┘                                  ║  ║  ║ └╥┘\n",
       "a0_0: ────────────────────────────────────────────╫──╫──╫──╫─\n",
       "                                                  ║  ║  ║  ║ \n",
       "c0: 4/════════════════════════════════════════════╩══╩══╩══╩═\n",
       "                                                  0  1  2  3 "
      ]
     },
     "execution_count": 12,
     "metadata": {},
     "output_type": "execute_result"
    }
   ],
   "source": [
    "qc.draw()"
   ]
  },
  {
   "cell_type": "code",
   "execution_count": 117,
   "metadata": {},
   "outputs": [
    {
     "data": {
      "image/png": "[encoded data removed]",
      "text/plain": [
       "<Figure size 504x360 with 1 Axes>"
      ]
     },
     "execution_count": 117,
     "metadata": {},
     "output_type": "execute_result"
    }
   ],
   "source": [
    "shots = 1\n",
    "backend = BasicAer.get_backend('qasm_simulator')\n",
    "result = execute(qc, backend, shots=shots).result(v)\n",
    "counts = result.get_counts()\n",
    "plot_histogram(counts)"
   ]
  },
  {
   "cell_type": "code",
   "execution_count": 11,
   "metadata": {},
   "outputs": [],
   "source": [
    "from qiskit.visualization import *"
   ]
  },
  {
   "cell_type": "code",
   "execution_count": 91,
   "metadata": {},
   "outputs": [
    {
     "name": "stderr",
     "output_type": "stream",
     "text": [
      "No classical registers in circuit \"circuit24\", counts will be empty.\n"
     ]
    },
    {
     "ename": "StopIteration",
     "evalue": "",
     "output_type": "error",
     "traceback": [
      "\u001b[0;31m---------------------------------------------------------------------------\u001b[0m",
      "\u001b[0;31mStopIteration\u001b[0m                             Traceback (most recent call last)",
      "\u001b[0;32m<ipython-input-91-9f58b1e5cabd>\u001b[0m in \u001b[0;36m<module>\u001b[0;34m\u001b[0m\n\u001b[1;32m      2\u001b[0m \u001b[0mbackend\u001b[0m \u001b[0;34m=\u001b[0m \u001b[0mBasicAer\u001b[0m\u001b[0;34m.\u001b[0m\u001b[0mget_backend\u001b[0m\u001b[0;34m(\u001b[0m\u001b[0;34m'qasm_simulator'\u001b[0m\u001b[0;34m)\u001b[0m\u001b[0;34m\u001b[0m\u001b[0;34m\u001b[0m\u001b[0m\n\u001b[1;32m      3\u001b[0m \u001b[0mresult\u001b[0m \u001b[0;34m=\u001b[0m \u001b[0mexecute\u001b[0m\u001b[0;34m(\u001b[0m\u001b[0mqc\u001b[0m\u001b[0;34m,\u001b[0m \u001b[0mbackend\u001b[0m\u001b[0;34m,\u001b[0m \u001b[0mshots\u001b[0m\u001b[0;34m=\u001b[0m\u001b[0mshots\u001b[0m\u001b[0;34m)\u001b[0m\u001b[0;34m.\u001b[0m\u001b[0mresult\u001b[0m\u001b[0;34m(\u001b[0m\u001b[0;34m)\u001b[0m\u001b[0;34m\u001b[0m\u001b[0;34m\u001b[0m\u001b[0m\n\u001b[0;32m----> 4\u001b[0;31m \u001b[0mcounts\u001b[0m \u001b[0;34m=\u001b[0m \u001b[0mresult\u001b[0m\u001b[0;34m.\u001b[0m\u001b[0mget_counts\u001b[0m\u001b[0;34m(\u001b[0m\u001b[0;34m)\u001b[0m\u001b[0;34m\u001b[0m\u001b[0;34m\u001b[0m\u001b[0m\n\u001b[0m\u001b[1;32m      5\u001b[0m \u001b[0mplot_histogram\u001b[0m\u001b[0;34m(\u001b[0m\u001b[0mcounts\u001b[0m\u001b[0;34m)\u001b[0m\u001b[0;34m\u001b[0m\u001b[0;34m\u001b[0m\u001b[0m\n",
      "\u001b[0;32m~/anaconda3/lib/python3.8/site-packages/qiskit/result/result.py\u001b[0m in \u001b[0;36mget_counts\u001b[0;34m(self, experiment)\u001b[0m\n\u001b[1;32m    250\u001b[0m                 \u001b[0;32melse\u001b[0m\u001b[0;34m:\u001b[0m\u001b[0;34m\u001b[0m\u001b[0;34m\u001b[0m\u001b[0m\n\u001b[1;32m    251\u001b[0m                     \u001b[0mcounts_header\u001b[0m \u001b[0;34m=\u001b[0m \u001b[0;34m{\u001b[0m\u001b[0;34m}\u001b[0m\u001b[0;34m\u001b[0m\u001b[0;34m\u001b[0m\u001b[0m\n\u001b[0;32m--> 252\u001b[0;31m                 \u001b[0mdict_list\u001b[0m\u001b[0;34m.\u001b[0m\u001b[0mappend\u001b[0m\u001b[0;34m(\u001b[0m\u001b[0mCounts\u001b[0m\u001b[0;34m(\u001b[0m\u001b[0mself\u001b[0m\u001b[0;34m.\u001b[0m\u001b[0mdata\u001b[0m\u001b[0;34m(\u001b[0m\u001b[0mkey\u001b[0m\u001b[0;34m)\u001b[0m\u001b[0;34m[\u001b[0m\u001b[0;34m'counts'\u001b[0m\u001b[0;34m]\u001b[0m\u001b[0;34m,\u001b[0m \u001b[0;34m**\u001b[0m\u001b[0mcounts_header\u001b[0m\u001b[0;34m)\u001b[0m\u001b[0;34m)\u001b[0m\u001b[0;34m\u001b[0m\u001b[0;34m\u001b[0m\u001b[0m\n\u001b[0m\u001b[1;32m    253\u001b[0m             \u001b[0;32melif\u001b[0m \u001b[0;34m'statevector'\u001b[0m \u001b[0;32min\u001b[0m \u001b[0mself\u001b[0m\u001b[0;34m.\u001b[0m\u001b[0mdata\u001b[0m\u001b[0;34m(\u001b[0m\u001b[0mkey\u001b[0m\u001b[0;34m)\u001b[0m\u001b[0;34m.\u001b[0m\u001b[0mkeys\u001b[0m\u001b[0;34m(\u001b[0m\u001b[0;34m)\u001b[0m\u001b[0;34m:\u001b[0m\u001b[0;34m\u001b[0m\u001b[0;34m\u001b[0m\u001b[0m\n\u001b[1;32m    254\u001b[0m                 \u001b[0mvec\u001b[0m \u001b[0;34m=\u001b[0m \u001b[0mpostprocess\u001b[0m\u001b[0;34m.\u001b[0m\u001b[0mformat_statevector\u001b[0m\u001b[0;34m(\u001b[0m\u001b[0mself\u001b[0m\u001b[0;34m.\u001b[0m\u001b[0mdata\u001b[0m\u001b[0;34m(\u001b[0m\u001b[0mkey\u001b[0m\u001b[0;34m)\u001b[0m\u001b[0;34m[\u001b[0m\u001b[0;34m'statevector'\u001b[0m\u001b[0;34m]\u001b[0m\u001b[0;34m)\u001b[0m\u001b[0;34m\u001b[0m\u001b[0;34m\u001b[0m\u001b[0m\n",
      "\u001b[0;32m~/anaconda3/lib/python3.8/site-packages/qiskit/result/counts.py\u001b[0m in \u001b[0;36m__init__\u001b[0;34m(self, data, time_taken, creg_sizes, memory_slots)\u001b[0m\n\u001b[1;32m     64\u001b[0m         \u001b[0mbin_data\u001b[0m \u001b[0;34m=\u001b[0m \u001b[0;32mNone\u001b[0m\u001b[0;34m\u001b[0m\u001b[0;34m\u001b[0m\u001b[0m\n\u001b[1;32m     65\u001b[0m         \u001b[0mdata\u001b[0m \u001b[0;34m=\u001b[0m \u001b[0mdict\u001b[0m\u001b[0;34m(\u001b[0m\u001b[0mdata\u001b[0m\u001b[0;34m)\u001b[0m\u001b[0;34m\u001b[0m\u001b[0;34m\u001b[0m\u001b[0m\n\u001b[0;32m---> 66\u001b[0;31m         \u001b[0mfirst_key\u001b[0m \u001b[0;34m=\u001b[0m \u001b[0mnext\u001b[0m\u001b[0;34m(\u001b[0m\u001b[0miter\u001b[0m\u001b[0;34m(\u001b[0m\u001b[0mdata\u001b[0m\u001b[0;34m.\u001b[0m\u001b[0mkeys\u001b[0m\u001b[0;34m(\u001b[0m\u001b[0;34m)\u001b[0m\u001b[0;34m)\u001b[0m\u001b[0;34m)\u001b[0m\u001b[0;34m\u001b[0m\u001b[0;34m\u001b[0m\u001b[0m\n\u001b[0m\u001b[1;32m     67\u001b[0m         \u001b[0;32mif\u001b[0m \u001b[0misinstance\u001b[0m\u001b[0;34m(\u001b[0m\u001b[0mfirst_key\u001b[0m\u001b[0;34m,\u001b[0m \u001b[0mint\u001b[0m\u001b[0;34m)\u001b[0m\u001b[0;34m:\u001b[0m\u001b[0;34m\u001b[0m\u001b[0;34m\u001b[0m\u001b[0m\n\u001b[1;32m     68\u001b[0m             \u001b[0mself\u001b[0m\u001b[0;34m.\u001b[0m\u001b[0mint_raw\u001b[0m \u001b[0;34m=\u001b[0m \u001b[0mdata\u001b[0m\u001b[0;34m\u001b[0m\u001b[0;34m\u001b[0m\u001b[0m\n",
      "\u001b[0;31mStopIteration\u001b[0m: "
     ]
    },
    {
     "name": "stderr",
     "output_type": "stream",
     "text": [
      "No classical registers in circuit \"circuit18\", counts will be empty.\n"
     ]
    }
   ],
   "source": [
    "shots = 8192\n",
    "backend = BasicAer.get_backend('qasm_simulator')\n",
    "result = execute(qc, backend, shots=shots).result()\n",
    "counts = result.get_counts()\n",
    "plot_histogram(counts)"
   ]
  },
  {
   "cell_type": "code",
   "execution_count": 32,
   "metadata": {},
   "outputs": [
    {
     "ename": "CircuitError",
     "evalue": "'register not in this circuit'",
     "output_type": "error",
     "traceback": [
      "\u001b[0;31m---------------------------------------------------------------------------\u001b[0m",
      "\u001b[0;31mCircuitError\u001b[0m                              Traceback (most recent call last)",
      "\u001b[0;32m<ipython-input-32-8abdddeeb5ec>\u001b[0m in \u001b[0;36m<module>\u001b[0;34m\u001b[0m\n\u001b[1;32m      8\u001b[0m \u001b[0;31m# mcry(qc, np.pi, [q[i] for i in range(n-1, 1, -1)], q[0], ancreg, mode='basic',\u001b[0m\u001b[0;34m\u001b[0m\u001b[0;34m\u001b[0m\u001b[0;34m\u001b[0m\u001b[0m\n\u001b[1;32m      9\u001b[0m \u001b[0;31m#     use_basis_gates=False)\u001b[0m\u001b[0;34m\u001b[0m\u001b[0;34m\u001b[0m\u001b[0;34m\u001b[0m\u001b[0m\n\u001b[0;32m---> 10\u001b[0;31m mcry(qc, np.pi, lisCon, q[0], ancreg, mode='basic',\n\u001b[0m\u001b[1;32m     11\u001b[0m     use_basis_gates=False)\n\u001b[1;32m     12\u001b[0m \u001b[0mcircuit\u001b[0m \u001b[0;34m=\u001b[0m \u001b[0mqc\u001b[0m\u001b[0;34m\u001b[0m\u001b[0;34m\u001b[0m\u001b[0m\n",
      "\u001b[0;32m~/anaconda3/lib/python3.8/site-packages/qiskit/circuit/library/standard_gates/multi_control_rotation_gates.py\u001b[0m in \u001b[0;36mmcry\u001b[0;34m(self, theta, q_controls, q_target, q_ancillae, mode, use_basis_gates)\u001b[0m\n\u001b[1;32m    169\u001b[0m     \u001b[0mall_qubits\u001b[0m \u001b[0;34m=\u001b[0m \u001b[0mcontrol_qubits\u001b[0m \u001b[0;34m+\u001b[0m \u001b[0;34m[\u001b[0m\u001b[0mtarget_qubit\u001b[0m\u001b[0;34m]\u001b[0m \u001b[0;34m+\u001b[0m \u001b[0mancillary_qubits\u001b[0m\u001b[0;34m\u001b[0m\u001b[0;34m\u001b[0m\u001b[0m\n\u001b[1;32m    170\u001b[0m \u001b[0;34m\u001b[0m\u001b[0m\n\u001b[0;32m--> 171\u001b[0;31m     \u001b[0mself\u001b[0m\u001b[0;34m.\u001b[0m\u001b[0m_check_qargs\u001b[0m\u001b[0;34m(\u001b[0m\u001b[0mall_qubits\u001b[0m\u001b[0;34m)\u001b[0m\u001b[0;34m\u001b[0m\u001b[0;34m\u001b[0m\u001b[0m\n\u001b[0m\u001b[1;32m    172\u001b[0m     \u001b[0mself\u001b[0m\u001b[0;34m.\u001b[0m\u001b[0m_check_dups\u001b[0m\u001b[0;34m(\u001b[0m\u001b[0mall_qubits\u001b[0m\u001b[0;34m)\u001b[0m\u001b[0;34m\u001b[0m\u001b[0;34m\u001b[0m\u001b[0m\n\u001b[1;32m    173\u001b[0m \u001b[0;34m\u001b[0m\u001b[0m\n",
      "\u001b[0;32m~/anaconda3/lib/python3.8/site-packages/qiskit/circuit/quantumcircuit.py\u001b[0m in \u001b[0;36m_check_qargs\u001b[0;34m(self, qargs)\u001b[0m\n\u001b[1;32m    903\u001b[0m             \u001b[0;32mraise\u001b[0m \u001b[0mCircuitError\u001b[0m\u001b[0;34m(\u001b[0m\u001b[0;34m\"qarg is not a Qubit\"\u001b[0m\u001b[0;34m)\u001b[0m\u001b[0;34m\u001b[0m\u001b[0;34m\u001b[0m\u001b[0m\n\u001b[1;32m    904\u001b[0m         \u001b[0;32mif\u001b[0m \u001b[0;32mnot\u001b[0m \u001b[0mall\u001b[0m\u001b[0;34m(\u001b[0m\u001b[0mself\u001b[0m\u001b[0;34m.\u001b[0m\u001b[0mhas_register\u001b[0m\u001b[0;34m(\u001b[0m\u001b[0mi\u001b[0m\u001b[0;34m.\u001b[0m\u001b[0mregister\u001b[0m\u001b[0;34m)\u001b[0m \u001b[0;32mfor\u001b[0m \u001b[0mi\u001b[0m \u001b[0;32min\u001b[0m \u001b[0mqargs\u001b[0m\u001b[0;34m)\u001b[0m\u001b[0;34m:\u001b[0m\u001b[0;34m\u001b[0m\u001b[0;34m\u001b[0m\u001b[0m\n\u001b[0;32m--> 905\u001b[0;31m             \u001b[0;32mraise\u001b[0m \u001b[0mCircuitError\u001b[0m\u001b[0;34m(\u001b[0m\u001b[0;34m\"register not in this circuit\"\u001b[0m\u001b[0;34m)\u001b[0m\u001b[0;34m\u001b[0m\u001b[0;34m\u001b[0m\u001b[0m\n\u001b[0m\u001b[1;32m    906\u001b[0m \u001b[0;34m\u001b[0m\u001b[0m\n\u001b[1;32m    907\u001b[0m     \u001b[0;32mdef\u001b[0m \u001b[0m_check_cargs\u001b[0m\u001b[0;34m(\u001b[0m\u001b[0mself\u001b[0m\u001b[0;34m,\u001b[0m \u001b[0mcargs\u001b[0m\u001b[0;34m)\u001b[0m\u001b[0;34m:\u001b[0m\u001b[0;34m\u001b[0m\u001b[0;34m\u001b[0m\u001b[0m\n",
      "\u001b[0;31mCircuitError\u001b[0m: 'register not in this circuit'"
     ]
    }
   ],
   "source": [
    "# mcry(qc, np.pi, [q[i] for i in range(n-1, 1, -1)], q[0], ancreg, mode='basic',\n",
    "#     use_basis_gates=False)\n",
    "mcry(qc, np.pi, lisCon, q[0], ancreg, mode='basic',\n",
    "    use_basis_gates=False)\n",
    "circuit = qc\n",
    "circuit.measure(range(n), range(n))\n",
    "\n",
    "# Executing the circuit by qasm_simulation to caculate energy from result.get(counts)    \n",
    "\n",
    "# shots = 8192\n",
    "# backend = BasicAer.get_backend('qasm_simulator')\n",
    "# result = execute(circuit, backend, shots=shots).result()\n",
    "# counts = result.get_counts()\n",
    "# plot_histogram(counts)\n",
    "\n"
   ]
  },
  {
   "cell_type": "code",
   "execution_count": 114,
   "metadata": {},
   "outputs": [],
   "source": [
    "MCMT?"
   ]
  },
  {
   "cell_type": "code",
   "execution_count": 14,
   "metadata": {},
   "outputs": [],
   "source": [
    "mcry?"
   ]
  },
  {
   "cell_type": "code",
   "execution_count": null,
   "metadata": {},
   "outputs": [],
   "source": [
    "Qc = QuantumRegister(4)\n",
    "Cc = ClassicalRegister(4)\n",
    "qc = QuantumCircuit(Qc, )"
   ]
  },
  {
   "cell_type": "code",
   "execution_count": 50,
   "metadata": {},
   "outputs": [],
   "source": [
    "qcr = QuantumRegister(3)\n",
    "qtr = QuantumRegister(1)\n",
    "cr = ClassicalRegister(3)\n",
    "qc = QuantumCircuit(qcr, qtr)"
   ]
  },
  {
   "cell_type": "code",
   "execution_count": 55,
   "metadata": {},
   "outputs": [
    {
     "name": "stdout",
     "output_type": "stream",
     "text": [
      "             \n",
      "c_qb_0: ──■──\n",
      "          │  \n",
      "c_qb_1: ──■──\n",
      "          │  \n",
      "c_qb_2: ──■──\n",
      "        ┌─┴─┐\n",
      "t_qb_0: ┤ X ├\n",
      "        └───┘\n"
     ]
    }
   ],
   "source": [
    "controls = QuantumRegister(3, \"c_qb\")\n",
    "target = QuantumRegister(1, \"t_qb\")\n",
    "circuit = QuantumCircuit(controls, target)\n",
    "\n",
    "circuit.mct(controls, target[0], None, mode='advanced')\n",
    "\n",
    "print(circuit)"
   ]
  },
  {
   "cell_type": "code",
   "execution_count": null,
   "metadata": {},
   "outputs": [],
   "source": []
  }
 ],
 "metadata": {
  "kernelspec": {
   "display_name": "Python 3",
   "language": "python",
   "name": "python3"
  },
  "language_info": {
   "codemirror_mode": {
    "name": "ipython",
    "version": 3
   },
   "file_extension": ".py",
   "mimetype": "text/x-python",
   "name": "python",
   "nbconvert_exporter": "python",
   "pygments_lexer": "ipython3",
   "version": "3.8.3"
  }
 },
 "nbformat": 4,
 "nbformat_minor": 4
}
